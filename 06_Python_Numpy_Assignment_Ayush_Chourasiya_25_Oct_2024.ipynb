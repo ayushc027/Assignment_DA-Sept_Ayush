{
  "nbformat": 4,
  "nbformat_minor": 0,
  "metadata": {
    "colab": {
      "provenance": []
    },
    "kernelspec": {
      "name": "python3",
      "display_name": "Python 3"
    },
    "language_info": {
      "name": "python"
    }
  },
  "cells": [
    {
      "cell_type": "markdown",
      "source": [
        "# **Theoretical Questions :**\n",
        "\n",
        "\n",
        "---\n",
        "\n"
      ],
      "metadata": {
        "id": "jjZ8HqqPqObU"
      }
    },
    {
      "cell_type": "markdown",
      "source": [
        "#### ***Q.1 Explain the purpose and advantages of NumPy in scientific computing and data analysis. How does it enhance Python's capabilities for numerical operations?***\n",
        "\n",
        "**Ans :-** NumPy (Numerical Python) is a fundamental library in Python for scientific computing and data analysis. It provides support for large, multi-dimensional arrays and matrices, along with a vast collection of mathematical functions to operate on these arrays efficiently. NumPy’s array object, known as ndarray, is particularly optimized for performance, making it significantly faster and more memory-efficient than traditional Python lists for handling large datasets. Here’s a breakdown of its purpose and advantages:\n",
        "\n",
        "**Purpose of NumPy**\n",
        "  * **Efficient Array Operations :** It enables the creation and manipulation of large arrays and matrices with complex calculations and high efficiency.\n",
        "  * **Foundational Library :** NumPy serves as the foundation for other popular data science libraries (e.g., Pandas, SciPy, TensorFlow), providing core array functionality.\n",
        "  * **Standard for Numerical Data:** Many scientific computing workflows rely on NumPy arrays as their core data structure due to their flexibility and speed.\n",
        "  * **Interoperability:** NumPy is widely compatible with other libraries, and it allows for easy integration with C/C++ and Fortran code, which can further optimize performance.\n",
        "\n",
        "**Advantages of Using NumPy**\n",
        "  1. **Speed and Efficiency:**\n",
        "    * NumPy uses highly optimized C and Fortran code, making it much faster than native Python for operations on large datasets.\n",
        "    * It enables element-wise operations on arrays without requiring loops in Python, leveraging vectorized operations for better performance.\n",
        "\n",
        "  2.  **Memory Efficiency:**\n",
        "    * ndarray objects are more memory-efficient than Python lists as they store data in contiguous blocks of memory, reducing memory overhead.\n",
        "    * It uses fixed data types for each element (e.g., integers, floats), which optimizes both speed and memory.\n",
        "\n",
        "  3.  **Vectorization and Broadcasting:**\n",
        "    * **Vectorization:** By eliminating the need for explicit loops, NumPy's vectorized operations allow complex calculations to be expressed succinctly and executed faster.\n",
        "    * **Broadcasting:** This feature enables arithmetic operations on arrays of different shapes without copying data, allowing for efficient use of memory and CPU.\n",
        "\n",
        "  4.  **Comprehensive Mathematical Functions:**\n",
        "    * NumPy includes numerous mathematical functions (e.g., linear algebra, Fourier transformations, random number generation) that are optimized for large datasets.\n",
        "    * It supports complex operations like matrix multiplication, element-wise operations, and statistical calculations, enabling users to perform sophisticated analyses with minimal code.\n",
        "\n",
        "  5.  **Data Manipulation:**\n",
        "     * NumPy arrays can be reshaped, sliced, and indexed efficiently, making them versatile for preprocessing data before feeding it into machine learning models or performing statistical analyses.\n",
        "\n",
        "  6.  **Ecosystem Integration:**\n",
        "    * Libraries such as Pandas, Matplotlib, and SciPy are built on top of NumPy arrays, making it easier to transition between data manipulation, visualization, and advanced scientific computation.\n",
        "\n",
        "**How NumPy Enhances Python for Numerical Operations**\n",
        "  \n",
        "  NumPy effectively transforms Python into a high-performance computing language by enabling optimized, low-level calculations directly in Python. This lets Python code operate nearly as fast as compiled code, such as C or Fortran, when working with numerical data. Additionally, NumPy’s API simplifies complex mathematical and scientific tasks, making Python a popular choice for data science, machine learning, and scientific research."
      ],
      "metadata": {
        "id": "0coYLbpCj1Hx"
      }
    },
    {
      "cell_type": "markdown",
      "source": [
        "#### ***Q.2 Compare and contrast np.mean() and np.average() functions in NumPy. When would you use one over the other?***\n",
        "\n",
        "**Ans :-** In NumPy, `np.mean()` and `np.average()` both calculate the average of array elements, but they have differences in functionality and usage, especially when dealing with weighted averages. Here’s a detailed comparison of each function:\n",
        "\n",
        "1. **np.mean()**\n",
        "  * **Definition:** `np.mean()` computes the arithmetic mean (simple average) of array elements along a specified axis or for the entire array.\n",
        "  * **Syntax:**\n",
        "```\n",
        "  np.mean(array, axis=None)\n",
        "```\n",
        "  * **Parameters:**\n",
        "      * array: The input array.\n",
        "      * axis (optional): Specifies the axis along which to compute the mean. If axis=None (default), it computes the mean of all elements in the array.\n",
        "  * **Output:** The simple average of array elements, computed as the sum of the elements divided by their count.\n",
        "   * **Usage:** `np.mean()` is used for simple averages where each element is equally weighted.\n",
        "```\n",
        "Example:\n",
        "        import numpy as np\n",
        "        arr = np.array([1, 2, 3, 4])\n",
        "        np.mean(arr)  # Output: 2.5\n",
        "```\n",
        "2. **np.average()**\n",
        "  * **Definition:** `np.average()` computes the weighted average of array elements if weights are provided; otherwise, it defaults to calculating the simple average, like `np.mean()`.\n",
        "  * **Syntax:**\n",
        "```\n",
        "np.average(array, weights=None, axis=None)\n",
        "```\n",
        "  * **Parameters:**\n",
        "      * array: The input array.\n",
        "      * weights (optional): A 1-D array of weights that specifies the relative importance of each element. If weights=None (default), `np.average()` behaves like `np.mean()`.\n",
        "      * axis (optional): Specifies the axis along which to compute the average. If axis=None, it computes the average of all elements.\n",
        "  * **Output:** The weighted average if weights are provided; otherwise, the simple average.\n",
        "  * **Usage:** `np.average()` is particularly useful for weighted averages, allowing specific elements to contribute more or less to the final result.\n",
        "```\n",
        "Example:\n",
        "        arr = np.array([1, 2, 3, 4])\n",
        "        weights = np.array([1, 2, 3, 4])\n",
        "        np.average(arr, weights=weights)  # Output: 3.0\n",
        "```\n",
        "\n",
        "**When to Use `np.mean()` vs. `np.average()`**\n",
        "  * Use `np.mean()` when you need a straightforward, unweighted average.\n",
        "  * Use `np.average()` when you need a weighted average, or if there is a possibility of using weights in future code adaptations. If no weights are provided, `np.average()` functions the same as `np.mean()`."
      ],
      "metadata": {
        "id": "QU-_BdUBkWmW"
      }
    },
    {
      "cell_type": "markdown",
      "source": [
        "#### ***Q.3 Describe the methods for reversing a NumPy array along different axes. Provide examples for 1D and 2D arrays.***\n",
        "\n",
        "**Ans :-** In NumPy, We can reverse an array along various axes using slicing, the `np.flip()` function, or specific axis arguments for multi-dimensional arrays. Here’s how to reverse arrays along different axes, with examples for both 1D and 2D arrays:\n",
        "\n",
        "1. **Reversing a 1D Array**\n",
        "  For a 1D array, reversing the array simply means flipping it in the reverse order.\n",
        "  * **Using slicing:**\n",
        "```\n",
        "    import numpy as np\n",
        "    arr = np.array([1, 2, 3, 4, 5])\n",
        "    reversed_arr = arr[::-1]\n",
        "    print(reversed_arr)  # Output: [5 4 3 2 1]\n",
        "```\n",
        "  * **Using `np.flip()`:**\n",
        "```\n",
        "    reversed_arr = np.flip(arr)\n",
        "    print(reversed_arr)  # Output: [5 4 3 2 1]\n",
        "```\n",
        "Both methods achieve the same result for a 1D array, reversing the order of elements.\n",
        "\n",
        "2. **Reversing a 2D Array :-**\n",
        "  For 2D arrays, we can reverse along specific axes (rows or columns) or flip the entire array.\n",
        "  * **Reversing Along Rows (Axis 0) :-**  This operation flips the rows in reverse order.\n",
        "    * Using slicing:\n",
        "```\n",
        "  arr_2d = np.array([[1, 2, 3], [4, 5, 6], [7, 8, 9]])\n",
        "  reversed_rows = arr_2d[::-1, :]\n",
        "  print(reversed_rows)\n",
        "  # Output:\n",
        "  # [[7 8 9]\n",
        "  #  [4 5 6]\n",
        "  #  [1 2 3]]\n",
        "```\n",
        "    * **Using `np.flip()` with axis=0 :-**\n",
        "```\n",
        "  reversed_rows = np.flip(arr_2d, axis=0)\n",
        "  print(reversed_rows)\n",
        "  # Output:\n",
        "  # [[7 8 9]\n",
        "  #  [4 5 6]\n",
        "  #  [1 2 3]]\n",
        "```\n",
        "  * **Reversing Along Columns (Axis 1) :-** This operation flips the columns in reverse order.\n",
        "    * Using slicing:\n",
        "```\n",
        "  reversed_columns = arr_2d[:, ::-1]\n",
        "  print(reversed_columns)\n",
        "  # Output:\n",
        "  # [[3 2 1]\n",
        "  #  [6 5 4]\n",
        "  #  [9 8 7]]\n",
        "```\n",
        "    * Using np.flip() with axis=1:\n",
        "```\n",
        "  reversed_columns = np.flip(arr_2d, axis=1)\n",
        "  print(reversed_columns)\n",
        "  # Output:\n",
        "  # [[3 2 1]\n",
        "  #  [6 5 4]\n",
        "  #  [9 8 7]]\n",
        "```\n",
        "  * **Reversing Both Axes :-** To reverse the entire 2D array (both rows and columns), we can combine both row and column reversals.\n",
        "    * Using slicing:\n",
        "```\n",
        "  reversed_all = arr_2d[::-1, ::-1]\n",
        "  print(reversed_all)\n",
        "  # Output:\n",
        "  # [[9 8 7]\n",
        "  #  [6 5 4]\n",
        "  #  [3 2 1]]\n",
        "```\n",
        "    * Using np.flip() without specifying an axis:\n",
        "```\n",
        "  reversed_all = np.flip(arr_2d)\n",
        "  print(reversed_all)\n",
        "  # Output:\n",
        "  # [[9 8 7]\n",
        "  #  [6 5 4]\n",
        "  #  [3 2 1]]\n",
        "```"
      ],
      "metadata": {
        "id": "ZJqhcbbzkapM"
      }
    },
    {
      "cell_type": "markdown",
      "source": [
        "#### ***Q.4 How can you determine the data type of elements in a NumPy array? Discuss the importance of data types in memory management and performance.***\n",
        "\n",
        "**Ans :-** To determine the data type of elements in a NumPy array, we can use the `.dtype` attribute of the array. This will return the data type of the array elements, such as `int32`, `float64`, or `bool`.\n",
        "\n",
        "**Example of Checking Data Type :-**\n",
        "```\n",
        "import numpy as np\n",
        "\n",
        "# Creating an array\n",
        "arr = np.array([1, 2, 3, 4])\n",
        "\n",
        "# Checking the data type\n",
        "print(arr.dtype)  # Output: int64 (or int32, depending on the platform)\n",
        "```\n",
        "\n",
        "**Importance of Data Types in NumPy :-** Data types (or dtypes in NumPy) play a critical role in both memory management and performance optimization.\n",
        "\n",
        "1. **Memory Management :-** Each data type in NumPy is associated with a specific memory size. Choosing an appropriate data type allows you to manage memory more efficiently, especially with large datasets.\n",
        "  * **Memory Consumption:** For instance, an int8 array (8 bits per element) consumes four times less memory than an int32 array (32 bits per element). Therefore, using smaller data types when appropriate can lead to substantial memory savings.\n",
        "  * **Efficient Storage:** This is particularly beneficial in cases where precision is not critical, such as using int16 or float32 instead of their larger counterparts int64 or float64.\n",
        "```\n",
        "Example:\n",
        "        arr_float32 = np.array([1.0, 2.0, 3.0], dtype=np.float32)  # Each element uses 4 bytes\n",
        "        arr_float64 = np.array([1.0, 2.0, 3.0], dtype=np.float64)  # Each element uses 8 bytes\n",
        "        print(arr_float32.nbytes)  # Output: 12 bytes (3 * 4)\n",
        "        print(arr_float64.nbytes)  # Output: 24 bytes (3 * 8)\n",
        "```\n",
        "2. **Performance Optimization :-** The data type also directly influences computational speed.\n",
        "  * **Lower Precision, Faster Computation:** Smaller data types like int16 or float32 require less computational power than int64 or float64, making operations on such arrays faster. This is particularly relevant in applications like machine learning and real-time data analysis, where processing speed is critical.\n",
        "  * **Vectorized Operations:** NumPy is optimized for specific data types, enabling it to leverage vectorized operations and SIMD (Single Instruction, Multiple Data) in underlying libraries (e.g., BLAS, LAPACK). Using the optimal data type maximizes these efficiencies.\n",
        "```\n",
        "Example:\n",
        "        # Creating large arrays with different dtypes\n",
        "        arr_int32 = np.ones(10**6, dtype=np.int32)\n",
        "        arr_int64 = np.ones(10**6, dtype=np.int64)\n",
        "        # Timing addition operation\n",
        "        %timeit arr_int32 + arr_int32  # Generally faster due to lower memory bandwidth requirement\n",
        "        %timeit arr_int64 + arr_int64  # Slower for larger dtypes\n",
        "```"
      ],
      "metadata": {
        "id": "gIqxTZCmka6O"
      }
    },
    {
      "cell_type": "markdown",
      "source": [
        "#### ***Q.5 Define ndarrays in NumPy and explain their key features. How do they differ from standard Python lists?***\n",
        "\n",
        "**Ans :-** In NumPy, an ndarray (N-dimensional array) is the core data structure used for storing and manipulating data. Unlike Python lists, which are flexible and can store mixed data types, ndarrays are designed specifically for efficient numerical computations and are a key element for scientific computing in Python.\n",
        "\n",
        "**Key Features of ndarray in NumPy**\n",
        "1.  **Homogeneous Data Type :-**\n",
        "      * All elements in an ndarray must be of the same data type, such as int32, float64, or bool.\n",
        "      * This uniformity allows for efficient memory storage and faster processing, as operations are optimized for the specific data type.\n",
        "2.  **N-dimensional :-**\n",
        "      * ndarray objects can have any number of dimensions, from 1D (vectors) to 2D (matrices) and even higher dimensions (e.g., 3D tensors for image processing).\n",
        "      * The dimensions are determined by the array’s shape, which is a tuple of integers indicating the size along each dimension.\n",
        "3.  **Fixed Size :-**\n",
        "      * Once an ndarray is created, its size (total number of elements) cannot be changed. You can reshape it (change the arrangement of elements without changing the total count), but the underlying data remains the same.\n",
        "4.  **Efficient Memory Layout :-**\n",
        "      * ndarray stores data in contiguous blocks of memory, which improves memory locality and enables vectorized operations. This memory efficiency is key to fast computation.\n",
        "      * The data layout also allows for broadcasting, where operations can apply across arrays of different shapes in a way that avoids data duplication.\n",
        "5.  **Vectorized Operations :-**\n",
        "      * NumPy supports vectorized operations, allowing you to apply mathematical functions across an entire array without explicit loops. This makes ndarray operations significantly faster than their Python list counterparts, especially with large datasets.\n",
        "6.  **Advanced Indexing and Slicing :-**\n",
        "      * ndarray provides powerful indexing and slicing capabilities that let you access and manipulate data along any axis and retrieve subarrays without creating copies.\n",
        "      * We can use slicing, boolean indexing, and fancy indexing to select specific parts of an array efficiently.\n",
        "\n",
        "**Differences Between `ndarray` and Python Lists**\n",
        "1.  Data Type :-\n",
        "  * `ndarray` in NumPy : Homogeneous; all elements must be of the same type.\n",
        "  * Python Lists : Heterogeneous; can store different data types.\n",
        "2.  Memory Efficiency\n",
        "  * `ndarray` in NumPy : Stores data in contiguous memory, reducing memory usage.\n",
        "  * Python Lists : Uses separate memory blocks for each element, increasing overhead.\n",
        "3.  Speed\n",
        "  * `ndarray` in NumPy :  Optimized for numerical computations, with fast, vectorized operations.\n",
        "  * Python Lists : Slower for large numerical computations, as it lacks vectorization.\n",
        "4.  Dimensionality :\n",
        "  * `ndarray` in NumPy :  Supports multiple dimensions (1D, 2D, …, nD).\n",
        "  * Python Lists : Typically 1D; can hold nested lists for 2D/3D, but inefficient.\n",
        "5.  Fixed Size :\n",
        "  * `ndarray` in NumPy :  Size is fixed after creation; can be reshaped but not resized.\n",
        "  * Python Lists : Dynamic size; elements can be added or removed easily.\n",
        "6.  Broadcasting :\n",
        "  * `ndarray` in NumPy :  Supports broadcasting for operations on arrays of different shapes.\n",
        "  * Python Lists : No native support for broadcasting; operations require manual looping.\n",
        "7.  Element-wise Operations :\n",
        "  * `ndarray` in NumPy :  Supports element-wise operations directly.\n",
        "  * Python Lists : Requires looping or comprehension for element-wise operations.\n"
      ],
      "metadata": {
        "id": "5Bl5UXE9kbBI"
      }
    },
    {
      "cell_type": "code",
      "source": [
        "# Example: Comparison of ndarray and Python List Performance\n",
        "\n",
        "import numpy as np\n",
        "import time\n",
        "\n",
        "# NumPy ndarray\n",
        "arr_np = np.arange(1, 1000001)\n",
        "\n",
        "# Python list\n",
        "arr_list = list(range(1, 1000001))\n",
        "\n",
        "# Squaring elements (NumPy)\n",
        "start = time.time()\n",
        "arr_np ** 2\n",
        "end = time.time()\n",
        "print(\"NumPy Time:\", end - start)\n",
        "\n",
        "# Squaring elements (Python list)\n",
        "start = time.time()\n",
        "[x ** 2 for x in arr_list]\n",
        "end = time.time()\n",
        "print(\"Python List Time:\", end - start)"
      ],
      "metadata": {
        "colab": {
          "base_uri": "https://localhost:8080/"
        },
        "id": "Mk-KHSf2zv7v",
        "outputId": "065b51ad-b828-475e-f97c-92eaf394288b"
      },
      "execution_count": 1,
      "outputs": [
        {
          "output_type": "stream",
          "name": "stdout",
          "text": [
            "NumPy Time: 0.007399320602416992\n",
            "Python List Time: 0.34877467155456543\n"
          ]
        }
      ]
    },
    {
      "cell_type": "markdown",
      "source": [
        "#### ***Q.6 Analyze the performance benefits of NumPy arrays over Python lists for large-scale numerical operations.***\n",
        "\n",
        "**Ans :-** NumPy arrays (ndarrays) offer significant performance advantages over Python lists, especially for large-scale numerical operations. These benefits stem from several factors, including memory efficiency, optimized C and Fortran implementations, vectorized operations, and broadcasting. Let’s analyze these advantages in detail:\n",
        "\n",
        "1. **Memory Efficiency :-**\n",
        "  * **Compact Storage:** NumPy arrays are stored in contiguous memory blocks, unlike Python lists, where each element is a separate object with its own metadata (e.g., type information, reference count). This compact storage of data allows NumPy to reduce memory overhead.\n",
        "  * **Fixed Data Types:** Each element in a NumPy array is of a fixed data type (e.g., int32, float64), which conserves memory since NumPy does not need to store type information for each element individually. Python lists, in contrast, can hold mixed data types, which increases memory usage as each element’s data type must be individually stored.\n",
        "\n",
        "**Example: Memory Usage Comparison**\n",
        "```\n",
        "import numpy as np\n",
        "import sys\n",
        "\n",
        "# Python list\n",
        "list_data = [i for i in range(1000000)]\n",
        "print(\"Python List Memory (MB):\", sys.getsizeof(list_data) / (1024 ** 2))\n",
        "\n",
        "# NumPy array\n",
        "array_data = np.arange(1000000)\n",
        "print(\"NumPy Array Memory (MB):\", array_data.nbytes / (1024 ** 2))\n",
        "```\n",
        "2. **Computational Speed :-**\n",
        "  * **Vectorized Operations:** NumPy supports vectorized operations, meaning that mathematical operations can be applied directly to entire arrays without needing explicit loops. Vectorization allows operations to be performed at the compiled C level, which is significantly faster than looping in pure Python.\n",
        "  * **Avoids Python Overheads:** For large datasets, Python lists require looping through each element, which introduces interpreter overhead. NumPy bypasses this overhead by performing array operations directly in optimized C and Fortran code.\n",
        "\n",
        "**Example: Computational Speed Comparison**\n",
        "```\n",
        "import time\n",
        "\n",
        "# Creating large datasets\n",
        "list_data = [i for i in range(1000000)]\n",
        "array_data = np.arange(1000000)\n",
        "\n",
        "# Squaring each element with Python list\n",
        "start = time.time()\n",
        "list_squared = [x ** 2 for x in list_data]\n",
        "end = time.time()\n",
        "print(\"Python List Time:\", end - start)\n",
        "\n",
        "# Squaring each element with NumPy array\n",
        "start = time.time()\n",
        "array_squared = array_data ** 2\n",
        "end = time.time()\n",
        "print(\"NumPy Array Time:\", end - start)\n",
        "```\n",
        "3. **Broadcasting :-**\n",
        "  * **Broadcasting Mechanism :** NumPy’s broadcasting allows operations on arrays of different shapes without manually reshaping or looping, making calculations simpler and more efficient. Broadcasting avoids unnecessary memory duplication and increases speed by allowing NumPy to perform operations on arrays as if they were the same shape.\n",
        "  * **Example of Broadcasting :** Adding a scalar to each element of a large array or performing element-wise operations between differently shaped arrays is seamless with broadcasting, while in Python lists, it requires additional code and is slower.\n",
        "```\n",
        "# Adding a scalar to a large array with broadcasting\n",
        "large_array = np.arange(1000000).reshape(1000, 1000)\n",
        "scalar = 10\n",
        "broadcast_result = large_array + scalar  # Fast with broadcasting\n",
        "# Equivalent in pure Python requires nested loops and is slower\n",
        "```\n",
        "4. **Use of Low-Level Libraries :-**\n",
        "  * **Optimized Libraries :** NumPy operations are linked to optimized low-level libraries like BLAS and LAPACK, which are highly efficient for linear algebra and matrix operations. This linkage allows NumPy to leverage highly optimized assembly or machine-level code for numerical computations, leading to performance gains that are impossible to achieve with pure Python.\n",
        "\n",
        "5. **Parallelization :-**\n",
        "  * **Support for SIMD :** Many of NumPy’s operations are designed to take advantage of SIMD (Single Instruction, Multiple Data) in modern CPUs, which allows the processor to perform the same operation on multiple data points simultaneously. This hardware acceleration is generally absent in Python’s built-in lists."
      ],
      "metadata": {
        "id": "btCT4kqVkbFh"
      }
    },
    {
      "cell_type": "markdown",
      "source": [
        "#### ***Q.7 Compare `vstack()` and `hstack()` functions in NumPy. Provide examples demonstrating their usage and output.***\n",
        "\n",
        "**Ans :-** In NumPy, vstack() and hstack() are functions used to stack arrays vertically and horizontally, respectively. They are part of the NumPy stacking functions and are useful for combining arrays along different axes.\n",
        "1. **`np.vstack():` Vertical Stacking**\n",
        "  * **Description :** The `vstack()` function stacks arrays vertically along a new row, or axis 0. It combines arrays by adding them as rows one after another.\n",
        "  * **Requirements:** Arrays must have the same number of columns (or the same shape along axis 1) to be vertically stacked.\n",
        "\n",
        "**Example of `vstack()`**\n",
        "```\n",
        "import numpy as np\n",
        "\n",
        "# Creating two 1D arrays\n",
        "arr1 = np.array([1, 2, 3])\n",
        "arr2 = np.array([4, 5, 6])\n",
        "\n",
        "# Using vstack to stack vertically\n",
        "result = np.vstack((arr1, arr2))\n",
        "print(result)\n",
        "# Output:\n",
        "# [[1 2 3]\n",
        "#  [4 5 6]]\n",
        "```\n",
        "Here, `vstack()` takes `arr1` and `arr2` and stacks them one on top of the other, creating a 2x3 array.\n",
        "\n",
        "**Example with 2D arrays**\n",
        "```\n",
        "# Creating two 2D arrays\n",
        "arr1 = np.array([[1, 2, 3], [4, 5, 6]])\n",
        "arr2 = np.array([[7, 8, 9], [10, 11, 12]])\n",
        "\n",
        "# Stacking 2D arrays vertically\n",
        "result = np.vstack((arr1, arr2))\n",
        "print(result)\n",
        "# Output:\n",
        "# [[ 1  2  3]\n",
        "#  [ 4  5  6]\n",
        "#  [ 7  8  9]\n",
        "#  [10 11 12]]\n",
        "```\n",
        "2. **`np.hstack()`: Horizontal Stacking**\n",
        "  * **Description:** The `hstack()` function stacks arrays horizontally along a new column, or axis 1. It combines arrays by placing them side by side.\n",
        "  * **Requirements:** Arrays must have the same number of rows (or the same shape along axis 0) to be horizontally stacked.\n",
        "\n",
        "**Example of `hstack()`**\n",
        "```\n",
        "# Creating two 1D arrays\n",
        "arr1 = np.array([1, 2, 3])\n",
        "arr2 = np.array([4, 5, 6])\n",
        "\n",
        "# Using hstack to stack horizontally\n",
        "result = np.hstack((arr1, arr2))\n",
        "print(result)\n",
        "# Output:\n",
        "# [1 2 3 4 5 6]\n",
        "```\n",
        "Here, `hstack()` takes arr1 and arr2 and joins them side by side to form a 1D array.\n",
        "\n",
        "**Example with 2D arrays**\n",
        "```\n",
        "# Creating two 2D arrays with the same number of rows\n",
        "arr1 = np.array([[1, 2, 3], [4, 5, 6]])\n",
        "arr2 = np.array([[7, 8, 9], [10, 11, 12]])\n",
        "\n",
        "# Stacking 2D arrays horizontally\n",
        "result = np.hstack((arr1, arr2))\n",
        "print(result)\n",
        "# Output:\n",
        "# [[ 1  2  3  7  8  9]\n",
        "#  [ 4  5  6 10 11 12]]\n",
        "```"
      ],
      "metadata": {
        "id": "DpbtSTzxkbI8"
      }
    },
    {
      "cell_type": "markdown",
      "source": [
        "#### ***Q.8 Explain the differences between fliplr() and flipud() methods in NumPy, including their effects on various array dimensions.***\n",
        "\n",
        "**Ans :-** In NumPy, `fliplr()` and `flipud()` are used to reverse the order of elements in an array along specific axes. Their names indicate their actions: `fliplr()` is for flipping left-to-right, and `flipud()` is for flipping up-to-down. These functions operate on 2D arrays and higher, with their effect differing based on the axis along which they flip elements.\n",
        "\n",
        "1. **`np.fliplr():` Flip Left-to-Right**\n",
        "  * **Description:** The `fliplr()` function reverses the order of columns in a 2D array or higher-dimensional array. It flips the array horizontally, meaning it swaps the columns from left to right.\n",
        "  * **Effect on Dimensions:** The number of rows remains the same, but the columns are reversed. Each row is independently reversed along its axis.\n",
        "\n",
        "**Example of `fliplr()` on a 2D Array**\n",
        "```\n",
        "import numpy as np\n",
        "\n",
        "arr = np.array([[1, 2, 3],\n",
        "                [4, 5, 6],\n",
        "                [7, 8, 9]])\n",
        "\n",
        "# Using fliplr\n",
        "result = np.fliplr(arr)\n",
        "print(result)\n",
        "# Output:\n",
        "# [[3 2 1]\n",
        "#  [6 5 4]\n",
        "#  [9 8 7]]\n",
        "```\n",
        "In this example, each row is reversed horizontally (columns are reordered left-to-right).\n",
        "\n",
        "**Example with a 3D Array**\n",
        "\n",
        "For a 3D array, `fliplr()` only flips along the last axis (columns).\n",
        "```\n",
        "arr_3d = np.array([[[1, 2, 3],\n",
        "                    [4, 5, 6]],\n",
        "\n",
        "                   [[7, 8, 9],\n",
        "                    [10, 11, 12]]])\n",
        "\n",
        "result = np.fliplr(arr_3d)\n",
        "print(result)\n",
        "# Output:\n",
        "# [[[4 5 6]\n",
        "#   [1 2 3]]\n",
        "#\n",
        "#  [[10 11 12]\n",
        "#   [ 7  8  9]]]\n",
        "```\n",
        "Here, each subarray’s rows have their columns flipped left-to-right.\n",
        "\n",
        "2. **`np.flipud():` Flip Up-to-Down**\n",
        "  * **Description:** The `flipud()` function reverses the order of rows in a 2D array or higher-dimensional array. It flips the array vertically, meaning it swaps rows from top to bottom.\n",
        "  * **Effect on Dimensions:** The number of columns remains the same, but the rows are reversed. Each column is independently reversed along its axis.\n",
        "\n",
        "**Example of `flipud()` on a 2D Array**\n",
        "```\n",
        "arr = np.array([[1, 2, 3],\n",
        "                [4, 5, 6],\n",
        "                [7, 8, 9]])\n",
        "\n",
        "# Using flipud\n",
        "result = np.flipud(arr)\n",
        "print(result)\n",
        "# Output:\n",
        "# [[7 8 9]\n",
        "#  [4 5 6]\n",
        "#  [1 2 3]]\n",
        "```\n",
        "In this example, the rows are flipped vertically (the order of rows is reversed from top to bottom).\n",
        "\n",
        "**Example with a 3D Array**\n",
        "\n",
        "For a 3D array, `flipud()` only flips along the first axis (rows).\n",
        "```\n",
        "arr_3d = np.array([[[1, 2, 3],\n",
        "                    [4, 5, 6]],\n",
        "\n",
        "                   [[7, 8, 9],\n",
        "                    [10, 11, 12]]])\n",
        "\n",
        "result = np.flipud(arr_3d)\n",
        "print(result)\n",
        "# Output:\n",
        "# [[[ 7  8  9]\n",
        "#   [10 11 12]]\n",
        "#\n",
        "#  [[ 1  2  3]\n",
        "#   [ 4  5  6]]]\n",
        "```\n",
        "Here, the two main \"layers\" are flipped, reversing their order top-to-bottom."
      ],
      "metadata": {
        "id": "opB5oTVnkbOw"
      }
    },
    {
      "cell_type": "markdown",
      "source": [
        "#### ***Q.9 Discuss the functionality of the array_split() method in NumPy. How does it handle uneven splits?***\n",
        "\n",
        "**Ans :-** The `np.array_split()` function in NumPy is used to split an array into multiple sub-arrays. Unlike `np.split()`, which requires that the split sizes be even, `array_split()` is flexible and can handle uneven splits. This is particularly useful when the array cannot be divided equally by the specified number of sections.\n",
        "```\n",
        "Syntax\n",
        "\n",
        "np.array_split(array, indices_or_sections, axis=0)\n",
        "```\n",
        "  * **array:** The input array to be split.\n",
        "  * **indices_or_sections:** The number of sections to split the array into or a list of specific indices at which to split.\n",
        "  * **axis:** The axis along which the split is performed (default is 0 for row-wise split).\n",
        "\n",
        "**Handling of Uneven Splits :-** When the size of the array cannot be divided evenly by the specified number of sections, `array_split()` automatically distributes the remaining elements across the initial sub-arrays, making some sub-arrays larger than others. The extra elements are added one by one to the earlier sub-arrays.\n",
        "\n",
        "**Example of Uneven Splits**\n",
        "```\n",
        "import numpy as np\n",
        "\n",
        "# Creating an array with 10 elements\n",
        "arr = np.array([1, 2, 3, 4, 5, 6, 7, 8, 9, 10])\n",
        "\n",
        "# Splitting into 3 sections (10 elements cannot be divided evenly by 3)\n",
        "result = np.array_split(arr, 3)\n",
        "print(result)\n",
        "# Output:\n",
        "# [array([1, 2, 3, 4]), array([5, 6, 7]), array([ 8, 9, 10])]\n",
        "```\n",
        "In this example, the 10 elements are split into three sub-arrays, with the extra element added to the first sub-array. This results in sub-arrays of sizes [4, 3, 3] rather than equal-sized splits.\n",
        "Example with a 2D Array\n",
        "\n",
        "When splitting along a specific axis, `array_split()` divides along the specified dimension. For instance, with a 2D array:\n",
        "```\n",
        "arr_2d = np.array([[1, 2, 3, 4],\n",
        "                   [5, 6, 7, 8],\n",
        "                   [9, 10, 11, 12]])\n",
        "\n",
        "# Splitting into 2 sections along columns (axis=1)\n",
        "result = np.array_split(arr_2d, 2, axis=1)\n",
        "print(result)\n",
        "# Output:\n",
        "# [array([[ 1,  2],\n",
        "#         [ 5,  6],\n",
        "#         [ 9, 10]]),\n",
        "#  array([[ 3,  4],\n",
        "#         [ 7,  8],\n",
        "#         [11, 12]])]\n",
        "```\n",
        "Here, `array_split()` divides the columns into two sections along axis=1. Each sub-array contains two columns, resulting in an equal split."
      ],
      "metadata": {
        "id": "cZ72Vi_Lkklh"
      }
    },
    {
      "cell_type": "markdown",
      "source": [
        "#### ***Q.10 Explain the concepts of vectorization and broadcasting in NumPy. How do they contribute to efficient array operations?***\n",
        "\n",
        "**Ans :-** Vectorization and broadcasting are two powerful concepts in NumPy that significantly enhance the efficiency of array operations, particularly in scientific computing and data analysis. Here’s an explanation of both concepts and their contributions to efficient array manipulation.\n",
        "\n",
        "**Vectorization**\n",
        "* **Definition:** Vectorization refers to the process of converting scalar operations (operations on single elements) into array operations (operations on whole arrays) without explicit loops. In NumPy, vectorization allows you to apply operations to entire arrays at once, leveraging optimized low-level implementations for performance gains.\n",
        "* **Benefits:**\n",
        "  1. **Performance Improvement:** Vectorized operations in NumPy are executed at a lower level (often in C or Fortran) and are optimized for performance. This leads to significant speedups compared to traditional Python loops.\n",
        "  2. **Simpler Code:** Vectorization results in cleaner, more concise code, making it easier to read and maintain. You can apply mathematical operations directly to arrays instead of iterating through elements manually.\n",
        "\n",
        "**Example of Vectorization :**\n",
        "```\n",
        "import numpy as np\n",
        "\n",
        "# Creating two large arrays\n",
        "a = np.random.rand(1000000)\n",
        "b = np.random.rand(1000000)\n",
        "\n",
        "# Vectorized addition\n",
        "c = a + b  # Adds corresponding elements of a and b\n",
        "\n",
        "# Without vectorization (using a loop)\n",
        "c_non_vectorized = np.empty(1000000)\n",
        "for i in range(1000000):\n",
        "    c_non_vectorized[i] = a[i] + b[i]\n",
        "```\n",
        "In this example, the vectorized operation a + b is much faster and more concise than using a for loop.\n",
        "\n",
        "**Broadcasting**\n",
        "\n",
        "* **Definition :** Broadcasting is a powerful mechanism that allows NumPy to perform arithmetic operations on arrays of different shapes. When operating on arrays of different sizes, NumPy automatically expands (broadcasts) the smaller array across the larger array so that they have compatible shapes.\n",
        "\n",
        "**Rules of Broadcasting :**\n",
        "  1. If the arrays have different numbers of dimensions, the shape of the smaller array is padded with ones on the left side until both shapes are the same.\n",
        "  2.  The arrays are compatible when:\n",
        "       *  Their dimensions are equal, or\n",
        "       *  One of the dimensions is 1.\n",
        "\n",
        "**Benefits :**\n",
        "  * **Memory Efficiency :** Broadcasting avoids unnecessary memory allocation by not actually replicating the smaller array. Instead, it creates a view of the data that appears to be larger.\n",
        "  * **Ease of Use:** It simplifies code by allowing arithmetic operations without the need for explicit looping or reshaping of arrays.\n",
        "\n",
        "**Example of Broadcasting :**\n",
        "```\n",
        "import numpy as np\n",
        "\n",
        "# Creating a 1D array (vector)\n",
        "a = np.array([1, 2, 3])\n",
        "\n",
        "# Creating a 2D array (matrix)\n",
        "b = np.array([[10], [20], [30]])\n",
        "\n",
        "# Broadcasting: adding a vector to each row of a matrix\n",
        "result = a + b\n",
        "print(result)\n",
        "# Output:\n",
        "# [[11 12 13]\n",
        "#  [21 22 23]\n",
        "#  [31 32 33]]\n",
        "```\n",
        "In this example, the 1D array a is broadcasted across the rows of the 2D array b, allowing the addition to be performed as if a were repeated for each row.\n",
        "\n",
        "**Contribution to Efficient Array Operations**\n",
        "* **Reduced Computational Overhead:** Both vectorization and broadcasting eliminate the need for explicit loops in Python, significantly reducing computational overhead and improving execution speed.\n",
        "* **Optimized Performance:** Operations are typically executed in compiled languages like C or Fortran behind the scenes, making them faster than equivalent Python code.\n",
        "* **Increased Code Clarity:** Both techniques lead to more readable and maintainable code, allowing users to express complex operations succinctly.\n",
        "* **Support for Large Data:** They enable efficient handling of large datasets common in scientific computing, machine learning, and data analysis."
      ],
      "metadata": {
        "id": "v8SVkQ8zklKr"
      }
    },
    {
      "cell_type": "markdown",
      "source": [
        "# **Practical Questions :**\n",
        "\n",
        "\n",
        "---\n",
        "\n"
      ],
      "metadata": {
        "id": "9DAMIAp5q4g-"
      }
    },
    {
      "cell_type": "markdown",
      "source": [
        "#### ***Q.1  Create a 3x3 NumPy array with random integers between 1 and 100. Then, interchange its rows and columns.***\n",
        "\n",
        "**Ans :-**"
      ],
      "metadata": {
        "id": "ZKnpJ3iqqpbn"
      }
    },
    {
      "cell_type": "code",
      "source": [
        "import numpy as np\n",
        "\n",
        "# Create a 3x3 array with random integers between 1 and 100\n",
        "array_3x3 = np.random.randint(1, 101, size=(3, 3))\n",
        "\n",
        "print(\"Original Array:\")\n",
        "print(array_3x3)\n",
        "\n",
        "# Interchange rows and columns (transpose)\n",
        "transposed_array = array_3x3.T\n",
        "\n",
        "print(\"\\nTransposed Array (Rows and Columns Interchanged):\")\n",
        "transposed_array"
      ],
      "metadata": {
        "colab": {
          "base_uri": "https://localhost:8080/"
        },
        "id": "MBAyOfQK7j6X",
        "outputId": "48b22df5-fda0-4f73-db77-4122a0b179bc"
      },
      "execution_count": 2,
      "outputs": [
        {
          "output_type": "stream",
          "name": "stdout",
          "text": [
            "Original Array:\n",
            "[[100  75  16]\n",
            " [ 39  98  15]\n",
            " [ 67  39  65]]\n",
            "\n",
            "Transposed Array (Rows and Columns Interchanged):\n"
          ]
        },
        {
          "output_type": "execute_result",
          "data": {
            "text/plain": [
              "array([[100,  39,  67],\n",
              "       [ 75,  98,  39],\n",
              "       [ 16,  15,  65]])"
            ]
          },
          "metadata": {},
          "execution_count": 2
        }
      ]
    },
    {
      "cell_type": "markdown",
      "source": [
        "#### ***Q.2 Generate a 1D NumPy array with 10 elements. Reshape it into a 2x5 array, then into a 5x2 array.***\n",
        "\n",
        "**Ans :-**"
      ],
      "metadata": {
        "id": "RduB8f2jqpbo"
      }
    },
    {
      "cell_type": "code",
      "source": [
        "import numpy as np\n",
        "\n",
        "# Generate a 1D array with 10 elements\n",
        "arr_1d = np.arange(10)\n",
        "\n",
        "# Reshape to 2x5\n",
        "arr_2x5 = arr_1d.reshape(2, 5)\n",
        "print(\"2x5 array:\")\n",
        "print(arr_2x5)\n",
        "\n",
        "# Reshape to 5x2\n",
        "arr_5x2 = arr_2x5.reshape(5, 2)\n",
        "print(\"\\n5x2 array:\")\n",
        "arr_5x2"
      ],
      "metadata": {
        "colab": {
          "base_uri": "https://localhost:8080/"
        },
        "id": "3nd0ptUj7uD3",
        "outputId": "bab63ad4-ef55-4cac-b424-22cb1293ffb2"
      },
      "execution_count": 3,
      "outputs": [
        {
          "output_type": "stream",
          "name": "stdout",
          "text": [
            "2x5 array:\n",
            "[[0 1 2 3 4]\n",
            " [5 6 7 8 9]]\n",
            "\n",
            "5x2 array:\n"
          ]
        },
        {
          "output_type": "execute_result",
          "data": {
            "text/plain": [
              "array([[0, 1],\n",
              "       [2, 3],\n",
              "       [4, 5],\n",
              "       [6, 7],\n",
              "       [8, 9]])"
            ]
          },
          "metadata": {},
          "execution_count": 3
        }
      ]
    },
    {
      "cell_type": "markdown",
      "source": [
        "#### ***Q.3  Create a 4x4 NumPy array with random float values. Add a border of zeros around it, resulting in a 6x6 array.***\n",
        "\n",
        "**Ans :-**"
      ],
      "metadata": {
        "id": "65stSw_rqpbo"
      }
    },
    {
      "cell_type": "code",
      "source": [
        "import numpy as np\n",
        "\n",
        "# Create a 4x4 array with random float values\n",
        "array_4x4 = np.random.rand(4, 4)\n",
        "\n",
        "# Add a border of zeros\n",
        "array_6x6 = np.pad(array_4x4, pad_width=1, mode='constant', constant_values=0)\n",
        "\n",
        "array_6x6"
      ],
      "metadata": {
        "colab": {
          "base_uri": "https://localhost:8080/"
        },
        "id": "WZ6fQgzJ76y6",
        "outputId": "09adfc69-c401-4bb6-d550-116a6e33957b"
      },
      "execution_count": 4,
      "outputs": [
        {
          "output_type": "execute_result",
          "data": {
            "text/plain": [
              "array([[0.        , 0.        , 0.        , 0.        , 0.        ,\n",
              "        0.        ],\n",
              "       [0.        , 0.94883512, 0.30800052, 0.79943306, 0.15293262,\n",
              "        0.        ],\n",
              "       [0.        , 0.50619225, 0.70231703, 0.84771375, 0.39337445,\n",
              "        0.        ],\n",
              "       [0.        , 0.5231151 , 0.97946671, 0.66348402, 0.56943178,\n",
              "        0.        ],\n",
              "       [0.        , 0.55556563, 0.9662528 , 0.15713956, 0.53043061,\n",
              "        0.        ],\n",
              "       [0.        , 0.        , 0.        , 0.        , 0.        ,\n",
              "        0.        ]])"
            ]
          },
          "metadata": {},
          "execution_count": 4
        }
      ]
    },
    {
      "cell_type": "markdown",
      "source": [
        "#### ***Q.4 Using NumPy, create an array of integers from 10 to 60 with a step of 5.***\n",
        "\n",
        "**Ans :-**"
      ],
      "metadata": {
        "id": "zNko13A_qpbp"
      }
    },
    {
      "cell_type": "code",
      "source": [
        "import numpy as np\n",
        "\n",
        "# Create an array of integers from 10 to 60 with a step of 5\n",
        "result_array = np.arange(10, 61, 5)\n",
        "\n",
        "result_array"
      ],
      "metadata": {
        "colab": {
          "base_uri": "https://localhost:8080/"
        },
        "id": "ucR7iqWx8JpN",
        "outputId": "0790c2ff-c3cc-4eec-d776-aa359b849e5f"
      },
      "execution_count": 5,
      "outputs": [
        {
          "output_type": "execute_result",
          "data": {
            "text/plain": [
              "array([10, 15, 20, 25, 30, 35, 40, 45, 50, 55, 60])"
            ]
          },
          "metadata": {},
          "execution_count": 5
        }
      ]
    },
    {
      "cell_type": "markdown",
      "source": [
        "#### ***Q.5  Create a NumPy array of strings ['python', 'numpy', 'pandas']. Apply different case transformations (uppercase, lowercase, title case, etc.) to each element.***\n",
        "\n",
        "**Ans :-**"
      ],
      "metadata": {
        "id": "ek3QaZcnqpbp"
      }
    },
    {
      "cell_type": "code",
      "source": [
        "# Create a NumPy array of strings\n",
        "string_array = np.array(['python', 'numpy', 'pandas'])\n",
        "\n",
        "# Apply case transformations\n",
        "uppercase_array = np.char.upper(string_array)\n",
        "lowercase_array = np.char.lower(string_array)\n",
        "titlecase_array = np.char.title(string_array)\n",
        "swapcase_array = np.char.swapcase(string_array)\n",
        "\n",
        "print(\"Original array:\", string_array)\n",
        "print(\"Uppercase:\", uppercase_array)\n",
        "print(\"Lowercase:\", lowercase_array)\n",
        "print(\"Titlecase:\", titlecase_array)\n",
        "print(\"Swapcase:\", swapcase_array)"
      ],
      "metadata": {
        "colab": {
          "base_uri": "https://localhost:8080/"
        },
        "id": "VGj-1HtO8XIM",
        "outputId": "db44bede-c6ea-47de-88b4-41f6facf69ee"
      },
      "execution_count": 6,
      "outputs": [
        {
          "output_type": "stream",
          "name": "stdout",
          "text": [
            "Original array: ['python' 'numpy' 'pandas']\n",
            "Uppercase: ['PYTHON' 'NUMPY' 'PANDAS']\n",
            "Lowercase: ['python' 'numpy' 'pandas']\n",
            "Titlecase: ['Python' 'Numpy' 'Pandas']\n",
            "Swapcase: ['PYTHON' 'NUMPY' 'PANDAS']\n"
          ]
        }
      ]
    },
    {
      "cell_type": "markdown",
      "source": [
        "#### ***Q.6 Generate a NumPy array of words. Insert a space between each character of every word in the array.***\n",
        "\n",
        "**Ans :-**"
      ],
      "metadata": {
        "id": "J3BVKCfFqpbq"
      }
    },
    {
      "cell_type": "code",
      "source": [
        "import numpy as np\n",
        "\n",
        "# Original array of words\n",
        "words = np.array(['hello', 'world', 'numpy'])\n",
        "\n",
        "# Insert spaces between characters using a list comprehension and join\n",
        "spaced_words = np.array([ ' '.join(list(word)) for word in words])\n",
        "\n",
        "spaced_words"
      ],
      "metadata": {
        "colab": {
          "base_uri": "https://localhost:8080/"
        },
        "id": "naSjHnl_8fuH",
        "outputId": "23c6011b-a608-4c08-d16b-5e5343e4518a"
      },
      "execution_count": 7,
      "outputs": [
        {
          "output_type": "execute_result",
          "data": {
            "text/plain": [
              "array(['h e l l o', 'w o r l d', 'n u m p y'], dtype='<U9')"
            ]
          },
          "metadata": {},
          "execution_count": 7
        }
      ]
    },
    {
      "cell_type": "markdown",
      "source": [
        "#### ***Q.7 Create two 2D NumPy arrays and perform element-wise addition, subtraction, multiplication, and division.***\n",
        "\n",
        "**Ans :-**"
      ],
      "metadata": {
        "id": "uNkQ0rJXqpbq"
      }
    },
    {
      "cell_type": "code",
      "source": [
        "import numpy as np\n",
        "\n",
        "# Create two 2D arrays\n",
        "array1 = np.array([[1, 2, 3], [4, 5, 6]])\n",
        "array2 = np.array([[7, 8, 9], [10, 11, 12]])\n",
        "\n",
        "# Element-wise addition\n",
        "addition_result = array1 + array2\n",
        "print(\"Addition:\\n\", addition_result)\n",
        "\n",
        "# Element-wise subtraction\n",
        "subtraction_result = array1 - array2\n",
        "print(\"\\nSubtraction:\\n\", subtraction_result)\n",
        "\n",
        "# Element-wise multiplication\n",
        "multiplication_result = array1 * array2\n",
        "print(\"\\nMultiplication:\\n\", multiplication_result)\n",
        "\n",
        "# Element-wise division\n",
        "division_result = array1 / array2\n",
        "print(\"\\nDivision:\\n\", division_result)"
      ],
      "metadata": {
        "colab": {
          "base_uri": "https://localhost:8080/"
        },
        "id": "RUOrVWRe8rg2",
        "outputId": "d8496bdd-3254-40fd-985c-81aa4e65f3f5"
      },
      "execution_count": 8,
      "outputs": [
        {
          "output_type": "stream",
          "name": "stdout",
          "text": [
            "Addition:\n",
            " [[ 8 10 12]\n",
            " [14 16 18]]\n",
            "\n",
            "Subtraction:\n",
            " [[-6 -6 -6]\n",
            " [-6 -6 -6]]\n",
            "\n",
            "Multiplication:\n",
            " [[ 7 16 27]\n",
            " [40 55 72]]\n",
            "\n",
            "Division:\n",
            " [[0.14285714 0.25       0.33333333]\n",
            " [0.4        0.45454545 0.5       ]]\n"
          ]
        }
      ]
    },
    {
      "cell_type": "markdown",
      "source": [
        "#### ***Q.8 Use NumPy to create a 5x5 identity matrix, then extract its diagonal elements.***\n",
        "\n",
        "**Ans :-**"
      ],
      "metadata": {
        "id": "ZzIGjS5oqpbr"
      }
    },
    {
      "cell_type": "code",
      "source": [
        "import numpy as np\n",
        "\n",
        "# Create a 5x5 identity matrix\n",
        "identity_matrix = np.eye(5)\n",
        "\n",
        "# Extract the diagonal elements\n",
        "diagonal_elements = np.diag(identity_matrix)\n",
        "\n",
        "print(\"5x5 Identity Matrix:\\n\", identity_matrix)\n",
        "print(\"\\nDiagonal Elements:\", diagonal_elements)"
      ],
      "metadata": {
        "colab": {
          "base_uri": "https://localhost:8080/"
        },
        "id": "58ZslWAO8z3Z",
        "outputId": "3d3ec3e0-050a-4d87-d2c3-e6bc3597638e"
      },
      "execution_count": 9,
      "outputs": [
        {
          "output_type": "stream",
          "name": "stdout",
          "text": [
            "5x5 Identity Matrix:\n",
            " [[1. 0. 0. 0. 0.]\n",
            " [0. 1. 0. 0. 0.]\n",
            " [0. 0. 1. 0. 0.]\n",
            " [0. 0. 0. 1. 0.]\n",
            " [0. 0. 0. 0. 1.]]\n",
            "\n",
            "Diagonal Elements: [1. 1. 1. 1. 1.]\n"
          ]
        }
      ]
    },
    {
      "cell_type": "markdown",
      "source": [
        "#### ***Q.9 Generate a NumPy array of 100 random integers between 0 and 1000. Find and display all prime numbers in this array.***\n",
        "\n",
        "**Ans :-**"
      ],
      "metadata": {
        "id": "kj0nR76Jqpbr"
      }
    },
    {
      "cell_type": "code",
      "source": [
        "import numpy as np\n",
        "\n",
        "def is_prime_num(num):\n",
        "    if num <= 1:\n",
        "        return False\n",
        "    for i in range(2, int(num**0.5) + 1):\n",
        "        if num % i == 0:\n",
        "            return False\n",
        "    return True\n",
        "\n",
        "# Generate a NumPy array of 100 random integers between 0 and 1000\n",
        "random_integers = np.random.randint(0, 1001, size=100)\n",
        "\n",
        "# Find and display all prime numbers in the array\n",
        "prime_numbers = [num for num in random_integers if is_prime_num(num)]\n",
        "\n",
        "print(\"Random integers:\", random_integers)\n",
        "print(\"\\nPrime numbers in the array:\", prime_numbers)"
      ],
      "metadata": {
        "colab": {
          "base_uri": "https://localhost:8080/"
        },
        "id": "ql4nA61H9O4Y",
        "outputId": "5a5ce945-dffd-4e05-ff76-b418bbcd3594"
      },
      "execution_count": 12,
      "outputs": [
        {
          "output_type": "stream",
          "name": "stdout",
          "text": [
            "Random integers: [917 904 663 719 889 628  41 846 337 334 469 573 652 209 965 769 195 690\n",
            " 768 935 832 295 430 906 945 439 898 800 383 545 433  85 976  82 797 359\n",
            " 888 694 201 130 357 755 988 721 621 514 857 192 942 833 787 151 617 198\n",
            " 173 219 378 188 438 928 940 697 637 422 147 153 561 841 175 402 807 577\n",
            "  57 917 795 852 459 226 418 600 280 977 761 933 141 252   2 338 273 633\n",
            " 138 685 916 628 516 193 589 620 922 629]\n",
            "\n",
            "Prime numbers in the array: [719, 41, 337, 769, 439, 383, 433, 797, 359, 857, 787, 151, 617, 173, 577, 977, 761, 2, 193]\n"
          ]
        }
      ]
    },
    {
      "cell_type": "markdown",
      "source": [
        "#### ***Q.10  Create a NumPy array representing daily temperatures for a month. Calculate and display the weekly averages.***\n",
        "\n",
        "**Ans :-**"
      ],
      "metadata": {
        "id": "RgFnpbIdqpbr"
      }
    },
    {
      "cell_type": "code",
      "source": [
        "import numpy as np\n",
        "\n",
        "# Create a NumPy array representing daily temperatures for a month (30 days)\n",
        "daily_temperatures = np.random.randint(15, 35, size=30)  # Example temperatures between 15 and 34 degrees\n",
        "\n",
        "# Calculate weekly averages\n",
        "weekly_averages = []\n",
        "for i in range(0, 30, 7):\n",
        "  week_temps = daily_temperatures[i:min(i + 7, 30)]  # Handle the last week if it has fewer than 7 days\n",
        "  weekly_average = np.mean(week_temps)\n",
        "  weekly_averages.append(weekly_average)\n",
        "\n",
        "# Display the weekly averages\n",
        "print(\"Daily Temperatures:\", daily_temperatures)\n",
        "print(\"\\nWeekly Averages:\")\n",
        "for i, avg in enumerate(weekly_averages):\n",
        "  print(f\"Week {i+1}: {avg:.2f}\")"
      ],
      "metadata": {
        "colab": {
          "base_uri": "https://localhost:8080/"
        },
        "id": "zVZz3UHK9Xfs",
        "outputId": "4753b54d-ed57-450e-db6e-5746f24c5e6a"
      },
      "execution_count": 14,
      "outputs": [
        {
          "output_type": "stream",
          "name": "stdout",
          "text": [
            "Daily Temperatures: [30 24 24 20 15 15 25 34 25 31 22 19 27 17 19 21 15 32 16 28 21 15 22 15\n",
            " 32 28 22 18 27 25]\n",
            "\n",
            "Weekly Averages:\n",
            "Week 1: 21.86\n",
            "Week 2: 25.00\n",
            "Week 3: 21.71\n",
            "Week 4: 21.71\n",
            "Week 5: 26.00\n"
          ]
        }
      ]
    },
    {
      "cell_type": "code",
      "source": [],
      "metadata": {
        "id": "-iXqeWx-9a1c"
      },
      "execution_count": null,
      "outputs": []
    }
  ]
}