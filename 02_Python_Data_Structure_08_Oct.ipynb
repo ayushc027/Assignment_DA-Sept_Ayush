{
  "nbformat": 4,
  "nbformat_minor": 0,
  "metadata": {
    "colab": {
      "provenance": []
    },
    "kernelspec": {
      "name": "python3",
      "display_name": "Python 3"
    },
    "language_info": {
      "name": "python"
    }
  },
  "cells": [
    {
      "cell_type": "markdown",
      "source": [
        "#### ***Q.1 Discuss string slicing and provide examples.***\n",
        "\n",
        "Ans :- String slicing is the method in python which is used to get the sub-string from the given string.\n",
        "\n",
        "*Syntex :-* String_Name[Start:Stop:Steps] #it will print the string from the Start point upto the one step before the given end point, in the given steps."
      ],
      "metadata": {
        "id": "EQ9l6dMf7Fwl"
      }
    },
    {
      "cell_type": "code",
      "source": [
        "# Example of String slicing\n",
        "\n",
        "# Example string\n",
        "my_string = \"Hello, World!\"\n",
        "\n",
        "# Slicing from index 0 to 5 (exclusive)\n",
        "print(my_string[0:5])  # Output: Hello\n",
        "\n",
        "# Slicing from index 7 to the end\n",
        "print(my_string[7:])  # Output: World!\n",
        "\n",
        "# Slicing from the beginning to index 5 (exclusive)\n",
        "print(my_string[:5])  # Output: Hello\n",
        "\n",
        "# Slicing the entire string\n",
        "print(my_string[:])  # Output: Hello, World!\n",
        "\n",
        "# Slicing with a step of 2\n",
        "print(my_string[::2])  # Output: Hlo ol!\n",
        "\n",
        "# Slicing in reverse order\n",
        "print(my_string[::-1])  # Output: !dlroW ,olleH\n"
      ],
      "metadata": {
        "colab": {
          "base_uri": "https://localhost:8080/"
        },
        "id": "i1rTW_c0ro-4",
        "outputId": "9381be41-42a9-4e42-9f6b-f13ab9c5ee21"
      },
      "execution_count": 1,
      "outputs": [
        {
          "output_type": "stream",
          "name": "stdout",
          "text": [
            "Hello\n",
            "World!\n",
            "Hello\n",
            "Hello, World!\n",
            "Hlo ol!\n",
            "!dlroW ,olleH\n"
          ]
        }
      ]
    },
    {
      "cell_type": "markdown",
      "source": [
        "#### ***Q.2 Explain the key features of list in python.***\n",
        "\n",
        "Ans :- Lists in Python are versatile data structures that allow you to store and manage a collection of items.\n",
        "The key features of lists are as follows:-\n",
        "1. **Ordered:** Lists maintain the order of items as they are added. The index of each item is based on its position in the list, starting from 0.\n",
        "2. **Mutable:** We can modify lists after creation. It means we can change, add, or remove items.\n",
        "3. **Dynamic Size:** Lists can grow or shrink in size. We don't need to declare a fixed size when we create a list.\n",
        "4. **Heterogeneous:** Lists can store items of different data types, including integers, floats, strings, and even other lists.\n",
        "5. **Indexing and Slicing:** We can access items using their index, and we can extract sublists using slicing.\n",
        "6. **Built-in Methods:** Lists come with a variety of built-in methods, such as:\n",
        "  *   append(): Adds an item to the end.\n",
        "  *   extend(): Adds multiple items to the end.\n",
        "  *   insert(): Inserts an item at a specific position.\n",
        "  *   remove(): Removes the first occurrence of an item.\n",
        "  *   pop(): Removes and returns an item at a given index.\n",
        "  *   sort(): Sorts the list in place.\n",
        "  *   reverse(): Reverses the order of items.\n",
        "7. **Nested Lists:** Lists can contain other lists as elements, allowing for multi-dimensional data structures.\n",
        "8. **Comprehensions:** We can create lists using list comprehensions for concise and readable code.\n",
        "  These features make lists one of the most commonly used data structures in Python for managing collections of data."
      ],
      "metadata": {
        "id": "d3Re5Wgq7Sy0"
      }
    },
    {
      "cell_type": "markdown",
      "source": [
        "#### ***Q.3 Describe how to access, modify and delete elements in a list with examples.***\n",
        "\n",
        "Ans :- In python we can access, Modify or delete elements from the list by the predefined mathods of python.\n",
        "\n",
        "1.  **AccessList :-** To access the elements if lists we can use the indexing of the perticular element.\n",
        "```\n",
        "  Syntex:-\n",
        "      List_Name[index]\n",
        "```\n",
        "2.  **Modify List :-** To Modify the elements of the list we can use the element assigning method with indexing.\n",
        "```\n",
        "  Syntex:-\n",
        "      List_Name[index] = New_Value\n",
        "```\n",
        "3.  **Delete element :-** To delete the element from the list we can use del, remove() of pop() function.\n",
        "```\n",
        "  Syntex:-\n",
        "      del List_Name[index]\n",
        "      List_Name.remove('Element_Name')\n",
        "      List_Name.pop()\n",
        "```"
      ],
      "metadata": {
        "id": "_B2nR8c57dse"
      }
    },
    {
      "cell_type": "code",
      "source": [
        "# Example list\n",
        "fruits = ['apple', 'banana', 'cherry', 'date']\n",
        "\n",
        "# Accessing elements\n",
        "first_fruit = fruits[0]  # 'apple'\n",
        "second_fruit = fruits[1]  # 'banana'\n",
        "\n",
        "# Accessing the last element\n",
        "last_fruit = fruits[-1]  # 'date'\n",
        "print(first_fruit)  # Output: apple\n",
        "print(last_fruit)   # Output: date\n",
        "\n",
        "# Modifying elements\n",
        "fruits[1] = 'blueberry'  # Change 'banana' to 'blueberry'\n",
        "print(fruits)  # Output: ['apple', 'blueberry', 'cherry', 'date']\n",
        "\n",
        "# Deleting an element by index\n",
        "del fruits[2]  # Removes 'cherry'\n",
        "print(fruits)  # Output: ['apple', 'blueberry', 'date']\n",
        "\n",
        "# Removing an element by value\n",
        "fruits.remove('blueberry')  # Removes 'blueberry'\n",
        "print(fruits)  # Output: ['apple', 'date']\n",
        "\n",
        "# Popping an element\n",
        "last_fruit = fruits.pop()  # Removes and returns 'date'\n",
        "print(last_fruit)  # Output: date\n",
        "print(fruits)      # Output: ['apple']\n",
        "\n"
      ],
      "metadata": {
        "colab": {
          "base_uri": "https://localhost:8080/"
        },
        "id": "vvR9QvG2-h24",
        "outputId": "995728b6-2e67-4395-a4cb-af2713e1c0cb"
      },
      "execution_count": 2,
      "outputs": [
        {
          "output_type": "stream",
          "name": "stdout",
          "text": [
            "apple\n",
            "date\n",
            "['apple', 'blueberry', 'cherry', 'date']\n",
            "['apple', 'blueberry', 'date']\n",
            "['apple', 'date']\n",
            "date\n",
            "['apple']\n"
          ]
        }
      ]
    },
    {
      "cell_type": "markdown",
      "source": [
        "#### ***Q.4 Compare and contrast tuples and list with examples.***\n",
        "\n",
        "Ans :- Tuples and lists are both used to store collections of items in Python, but they have some key differences in terms of functionality and usage.\n",
        "\n",
        "1. **Mutability :-**\n",
        "  * Lists are mutable, meaning you can modify them after creation.\n",
        "  * Tuples are immutable, meaning once they are created, you cannot change their contents.\n",
        "```\n",
        "  # List\n",
        "        fruits = ['apple', 'banana', 'cherry']\n",
        "        fruits[1] = 'blueberry'  # Modifying an element\n",
        "        print(fruits)  # Output: ['apple', 'blueberry', 'cherry']\n",
        "  # Tuple\n",
        "        colors = ('red', 'green', 'blue')\n",
        "        # colors[1] = 'yellow'  # This will raise a TypeError\n",
        "```\n",
        "2. **Syntax :-**\n",
        "  * Lists use square brackets [].\n",
        "  * Tuples use parentheses ().\n",
        "```\n",
        "  # List\n",
        "        my_list = [1, 2, 3]\n",
        "  # Tuple\n",
        "        my_tuple = (1, 2, 3)\n",
        "```\n",
        "3. **Performance :-**\n",
        "  * Tuples are generally faster than lists for iteration and have a smaller memory footprint due to their immutability.\n",
        "```\n",
        "    import sys\n",
        "    list_size = sys.getsizeof([1, 2, 3])\n",
        "    tuple_size = sys.getsizeof((1, 2, 3))\n",
        "    print(f\"Size of list: {list_size} bytes\")  # Size of the list\n",
        "    print(f\"Size of tuple: {tuple_size} bytes\")  # Size of the tuple\n",
        "```\n",
        "4. **Use Cases :-**\n",
        "  * Lists are typically used for collections of items that may change (e.g., a list of user inputs).\n",
        "  * Tuples are often used for fixed collections of items (e.g., coordinates, data that shouldn’t change).\n",
        "```\n",
        "    # List of user inputs\n",
        "    user_inputs = ['name', 'age', 'city']\n",
        "    # Tuple for geographical coordinates\n",
        "    coordinates = (40.7128, -74.0060)  # Latitude and Longitude of New York City\n",
        "```\n",
        "4. **Built-in Methods :-**\n",
        "  * Lists have more built-in methods available (like append(), extend(), remove(), etc.).\n",
        "  * Tuples have fewer methods (mainly count() and index()).\n",
        "```\n",
        "    # List methods\n",
        "    my_list = [1, 2, 3]\n",
        "    my_list.append(4)  # Adding an element\n",
        "    print(my_list)  # Output: [1, 2, 3, 4]\n",
        "    # Tuple methods\n",
        "    my_tuple = (1, 2, 2, 3)\n",
        "    print(my_tuple.count(2))  # Output: 2 (counts occurrences of 2)\n",
        "```"
      ],
      "metadata": {
        "id": "Utvpru5V7phZ"
      }
    },
    {
      "cell_type": "markdown",
      "source": [
        "#### ***Q.5 Describe the key features of sets and provide examples of their uses.***\n",
        "\n",
        "Ans :- Sets in Python are unordered collections of unique elements. They are particularly useful for operations that involve membership testing, eliminating duplicates, and performing mathematical set operations.\n",
        "\n",
        "**Key Features of Sets**\n",
        "1.  **Unordered:** The elements in a set do not have a specific order. When we iterate over a set, the order of elements may not be the same as the order in which they were added.\n",
        "2.  **Unique Elements:** Sets automatically eliminate duplicate entries. Each element in a set must be unique.\n",
        "3.  **Mutable:** We can add or remove elements from a set after its creation.\n",
        "4.  **Dynamic Size:** Sets can grow or shrink in size as we add or remove elements.\n",
        "5.  **Operations:** Sets support standard mathematical set operations like union, intersection, difference, and symmetric difference.\n",
        "6.  **Membership Testing:** Sets provide fast membership testing, making it efficient to check if an element is present."
      ],
      "metadata": {
        "id": "ULyeaJ2K73Q1"
      }
    },
    {
      "cell_type": "code",
      "source": [
        "#Examples of Sets and Their Uses\n",
        "\n",
        "# Creating a set\n",
        "fruits = {'apple', 'banana', 'cherry'}\n",
        "print(fruits)  # Output: {'banana', 'cherry', 'apple'} (order may vary)\n",
        "\n",
        "# Adding an element\n",
        "fruits.add('orange')\n",
        "print(fruits)  # Output: {'banana', 'cherry', 'apple', 'orange'}\n",
        "\n",
        "# Removing an element\n",
        "fruits.remove('banana')\n",
        "print(fruits)  # Output: {'cherry', 'apple', 'orange'}\n",
        "\n",
        "# Using discard (does not raise an error if the element is not found)\n",
        "fruits.discard('kiwi')  # No error even though 'kiwi' is not in the set\n",
        "\n",
        "# Using a set to eliminate duplicates\n",
        "numbers = [1, 2, 3, 4, 4, 5, 1]\n",
        "unique_numbers = set(numbers)\n",
        "print(unique_numbers)  # Output: {1, 2, 3, 4, 5}\n",
        "\n",
        "#Set Operations\n",
        "  #Union: Combines elements from both sets.\n",
        "set_a = {1, 2, 3}\n",
        "set_b = {3, 4, 5}\n",
        "union_set = set_a.union(set_b)\n",
        "print(union_set)  # Output: {1, 2, 3, 4, 5}\n",
        "\n",
        "  #Intersection: Finds common elements.\n",
        "intersection_set = set_a.intersection(set_b)\n",
        "print(intersection_set)  # Output: {3}\n",
        "\n",
        "  #Difference: Elements in one set but not in another.\n",
        "difference_set = set_a.difference(set_b)\n",
        "print(difference_set)  # Output: {1, 2}\n",
        "\n",
        "  #Symmetric Difference: Elements in either set but not in both.\n",
        "symmetric_difference_set = set_a.symmetric_difference(set_b)\n",
        "print(symmetric_difference_set)  # Output: {1, 2, 4, 5}\n",
        "\n",
        "# Fast membership testing\n",
        "if 'apple' in fruits:\n",
        "    print(\"Apple is in the set.\")  # Output: Apple is in the set.\n",
        "else:\n",
        "    print(\"Apple is not in the set.\")\n"
      ],
      "metadata": {
        "colab": {
          "base_uri": "https://localhost:8080/"
        },
        "id": "S35GPAChGsmn",
        "outputId": "7468dc45-dad6-4c90-c5cb-b837ace31fae"
      },
      "execution_count": 7,
      "outputs": [
        {
          "output_type": "stream",
          "name": "stdout",
          "text": [
            "{'apple', 'cherry', 'banana'}\n",
            "{'orange', 'apple', 'cherry', 'banana'}\n",
            "{'orange', 'apple', 'cherry'}\n",
            "{1, 2, 3, 4, 5}\n",
            "{1, 2, 3, 4, 5}\n",
            "{3}\n",
            "{1, 2}\n",
            "{1, 2, 4, 5}\n",
            "Apple is in the set.\n"
          ]
        }
      ]
    },
    {
      "cell_type": "markdown",
      "source": [
        "#### ***Q.6 Discuss the use cases of tuples and sets in python programming.***\n",
        "\n",
        "Ans :- Tuples and sets serve distinct purposes in Python programming, and their use cases are influenced by their unique characteristics.\n",
        "\n",
        "**Use Cases for Tuples**\n",
        "1.  **Immutable Data :-**  In tuples the stored data can not be changed throughtout the program. so, it is widely used for making common cofiguration settings or constants.\n",
        "```\n",
        "CONFIG = ('localhost', 8080, 'my_database')\n",
        "```\n",
        "2.  **Return Multiple Values :-** Tuples are often used to return multiple values from a function.\n",
        "```\n",
        "def get_coordinates():\n",
        "    return (40.7128, -74.0060)  # Latitude and Longitude of New York City\n",
        "lat, lon = get_coordinates()\n",
        "```\n",
        "3.  **Data Integrity :-** Because tuples are immutable, they can be used as keys in dictionaries, ensuring that the keys remain constant.\n",
        "```\n",
        "coordinates = {}\n",
        "coordinates[(40.7128, -74.0060)] = \"New York City\"\n",
        "```\n",
        "4.  **Heterogeneous Collections :-** Use tuples to store collections of different data types, such as a combination of strings and numbers.\n",
        "```\n",
        "person = (\"Alice\", 30, \"Engineer\")\n",
        "```\n",
        "5.  **Unpacking :-** Tuples allow for unpacking, making it easy to assign multiple variables in a single line.\n",
        "```\n",
        "a, b, c = (1, 2, 3)\n",
        "```\n",
        "**Use Cases for Sets**\n",
        "1.  **Unique Collections :-**  Use sets to store collections of unique items, automatically filtering out duplicates. This is useful for managing lists of items where duplicates are not allowed.\n",
        "```\n",
        "items = ['apple', 'banana', 'apple', 'orange']\n",
        "unique_items = set(items)  # Output: {'banana', 'orange', 'apple'}\n",
        "```\n",
        "2.  **Membership Testing :-** Sets provide fast membership testing. While frequently check whether an item exists in a collection, sets are more efficient than lists.\n",
        "```\n",
        "fruits = {'apple', 'banana', 'cherry'}\n",
        "if 'banana' in fruits:\n",
        "    print(\"Banana is in the set.\")\n",
        "```\n",
        "3.  **Set Operations :-** Sets support mathematical operations like union, intersection, and difference, making them ideal for applications involving comparisons and relationships between groups.\n",
        "```\n",
        "set_a = {1, 2, 3}\n",
        "set_b = {3, 4, 5}\n",
        "print(set_a.union(set_b))  # Output: {1, 2, 3, 4, 5}\n",
        "```\n",
        "4.  **Removing Duplicates from a List :-** Sets can be used to easily remove duplicates from a list by converting the list to a set and back to a list if needed.\n",
        "```\n",
        "numbers = [1, 2, 3, 2, 1]\n",
        "unique_numbers = list(set(numbers))  # Output: [1, 2, 3]\n",
        "```\n",
        "5.  **Data Processing :-** In data analysis and processing, sets can help identify unique records or perform operations like finding common elements between datasets.\n",
        "```\n",
        "data_a = {1, 2, 3, 4}\n",
        "data_b = {3, 4, 5, 6}\n",
        "common_elements = data_a.intersection(data_b)  # Output: {3, 4}\n",
        "```"
      ],
      "metadata": {
        "id": "K0FIJj478A1j"
      }
    },
    {
      "cell_type": "markdown",
      "source": [
        "#### ***Q.7 Describe how to add, modify and delete items in a dictionary with examples.***\n",
        "\n",
        "Ans :- Dictionaries in Python are versatile data structures that store key-value pairs.\n",
        "\n",
        "1. **Adding Items :-** We can add new key-value pairs to a dictionary by assigning a value to a new key.\n",
        "```\n",
        "  person['email'] = 'alice@example.com'\n",
        "```\n",
        "2. **Modifying Items :-** We can modify the value associated with a specific key by assigning a new value to that key.\n",
        "```\n",
        "  person['age'] = 31\n",
        "```\n",
        "3. ** Deleting Items :-** We can delete key-value pairs from a dictionary using the del statement, the pop() method, or the popitem() method.\n"
      ],
      "metadata": {
        "id": "HzkbJVmo8J39"
      }
    },
    {
      "cell_type": "code",
      "source": [
        "# Creating a dictionary\n",
        "person = {\n",
        "    'name': 'Alice',\n",
        "    'age': 30,\n",
        "    'city': 'New York'\n",
        "}\n",
        "\n",
        "# Adding a new key-value pair\n",
        "person['email'] = 'alice@example.com'\n",
        "\n",
        "print(person)\n",
        "# Output: {'name': 'Alice', 'age': 30, 'city': 'New York', 'email': 'alice@example.com'}\n",
        "\n",
        "# Modifying an existing value\n",
        "person['age'] = 31  # Update age\n",
        "\n",
        "print(person)\n",
        "# Output: {'name': 'Alice', 'age': 31, 'city': 'New York', 'email': 'alice@example.com'}\n",
        "\n",
        "# Deleting a key-value pair using del\n",
        "del person['city']\n",
        "\n",
        "print(person)\n",
        "# Output: {'name': 'Alice', 'age': 31, 'email': 'alice@example.com'}\n",
        "\n",
        "# Deleting a key-value pair using pop()\n",
        "email = person.pop('email')\n",
        "\n",
        "print(email)  # Output: alice@example.com\n",
        "print(person)  # Output: {'name': 'Alice', 'age': 31}\n",
        "\n",
        "# Deleting the last inserted key-value pair\n",
        "last_item = person.popitem()\n",
        "\n",
        "print(last_item)  # Output: ('age', 31) (or a similar output depending on the order of insertion)\n",
        "print(person)     # Output: {'name': 'Alice'}\n"
      ],
      "metadata": {
        "colab": {
          "base_uri": "https://localhost:8080/"
        },
        "id": "tcXDvm_cLzC4",
        "outputId": "f55a2c32-e732-4707-b5a7-c389a32f6090"
      },
      "execution_count": 5,
      "outputs": [
        {
          "output_type": "stream",
          "name": "stdout",
          "text": [
            "{'name': 'Alice', 'age': 30, 'city': 'New York', 'email': 'alice@example.com'}\n",
            "{'name': 'Alice', 'age': 31, 'city': 'New York', 'email': 'alice@example.com'}\n",
            "{'name': 'Alice', 'age': 31, 'email': 'alice@example.com'}\n",
            "alice@example.com\n",
            "{'name': 'Alice', 'age': 31}\n",
            "('age', 31)\n",
            "{'name': 'Alice'}\n"
          ]
        }
      ]
    },
    {
      "cell_type": "markdown",
      "source": [
        "#### ***Q.8 Discuss the importance of dictionary keys being immutable and provide examples.***\n",
        "\n",
        "Ans :- The immutability of dictionary keys in Python is crucial for maintaining the integrity, performance and efficiency of dictionaries as key-value stores.\n",
        "\n",
        "**Importance of Immutability of Dictionary Keys**\n",
        "1.  **Hashability :-** Hashable means, it has a fixed hash value that does not change during its lifetime. This is crucial because dictionaries use a hash table for quick access. If a key could be changed after being added to the dictionary, its hash value would change, It probable to create the error while accessing or modifiying the values associated with the key.\n",
        "2.  **Data Inegrity :-**  Immutable keys ensure that the relationship between the key and its corresponding value remains stable. If a key were mutable and modified, it could lead to confusion or errors in accessing data.\n",
        "3.  **Performance :-** *Efficiency:* Dictionaries are designed for fast lookups. The immutability of keys contributes to the efficient operation of hash tables, maintaining the average time complexity for lookups."
      ],
      "metadata": {
        "id": "A-OHk4_T8YwD"
      }
    },
    {
      "cell_type": "code",
      "source": [
        "#Examples\n",
        "#Using Immutable Types:\n",
        "\n",
        "#Strings: Strings are immutable and can be used as keys.\n",
        "\n",
        "my_dict = {\"apple\": 1, \"banana\": 2}\n",
        "print(my_dict[\"apple\"])  # Output: 1\n",
        "\n",
        "#Tuples: Tuples are also immutable and can be used as keys, provided they contain only hashable elements.\n",
        "my_dict = {(1, 2): \"point A\", (3, 4): \"point B\"}\n",
        "print(my_dict[(1, 2)])  # Output: \"point A\"\n"
      ],
      "metadata": {
        "colab": {
          "base_uri": "https://localhost:8080/"
        },
        "id": "wcToi6iMX6gS",
        "outputId": "c8ea07a8-c565-4e24-e578-46199b8dc2c7"
      },
      "execution_count": 1,
      "outputs": [
        {
          "output_type": "stream",
          "name": "stdout",
          "text": [
            "1\n",
            "point A\n"
          ]
        }
      ]
    },
    {
      "cell_type": "code",
      "source": [
        "#Using Mutable Types:\n",
        "\n",
        "#Lists: Lists are mutable and cannot be used as dictionary keys. Trying to do so will raise a TypeError.\n",
        "\n",
        "try:\n",
        "    my_dict = {[1, 2]: \"list key\"}  # Raises TypeError: unhashable type: 'list'\n",
        "except TypeError as e:\n",
        "    print(e)  # Output: unhashable type: 'list'\n",
        "\n",
        "#Dictionaries: Similarly, dictionaries are mutable and cannot be keys.\n",
        "\n",
        "try:\n",
        "    my_dict = {{'a': 1}: \"dict key\"}  # Raises TypeError: unhashable type: 'dict'\n",
        "except TypeError as e:\n",
        "    print(e)  # Output: unhashable type: 'dict'\n"
      ],
      "metadata": {
        "colab": {
          "base_uri": "https://localhost:8080/"
        },
        "id": "gjOZnCPFYEyk",
        "outputId": "3fc135bc-c680-4693-de60-5ef3744c2d16"
      },
      "execution_count": 2,
      "outputs": [
        {
          "output_type": "stream",
          "name": "stdout",
          "text": [
            "unhashable type: 'list'\n",
            "unhashable type: 'dict'\n"
          ]
        }
      ]
    },
    {
      "cell_type": "code",
      "source": [],
      "metadata": {
        "id": "6tKfAHH1YSSj"
      },
      "execution_count": null,
      "outputs": []
    }
  ]
}