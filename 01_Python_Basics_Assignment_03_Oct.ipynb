{
  "cells": [
    {
      "cell_type": "markdown",
      "metadata": {
        "id": "NSng8CpFtW0X"
      },
      "source": [
        "#### ***Q.1 Explain the key feature of Python that make it a populer choice in programming.***\n",
        "\n",
        "Ans :- The key fetures that makes Python a popular choice foin programming are,\n",
        "1.  *Open Source Software* :- Python is an Open source software, it means it is free to download, install and use.\n",
        "2.  *Simple syntex* :- Syntex of python are easy to understand and learn.\n",
        "3.  *Large Standard library* :- Python has largest Standard library that allows programmers to develop projects quickly.\n",
        "4.  *Database Support* :- Python supports databases which are general in use, Ex. MySQL, Oracle etc.\n",
        "5.  *Large and Active Community* :- Python has largest community over the all programming language.\n",
        "6.  *Object-Oriented* :- Python supports concept of Class and object encapsulation which makes coding more effective."
      ]
    },
    {
      "cell_type": "markdown",
      "metadata": {
        "id": "GHORKrZUtW0Z"
      },
      "source": [
        "#### ***Q.2 Describe the role of predefined keywords in python and provide examples of how they are used in a program.***\n",
        "\n",
        "Ans :- Keywords in Python are some predefined and resorved words that have special meanings and cannot be used as identifiers (variable names, function names, etc.). Keywords are case-sensitive and cannot be redefined or overridden within a Python program.\n",
        "\n",
        "*Example :-* if, else, while, for, def, class, import, try, except, return, True, False, None, etc."
      ]
    },
    {
      "cell_type": "code",
      "execution_count": null,
      "metadata": {
        "id": "QfBLXzHvtW0b",
        "outputId": "f773b111-3826-47b7-8470-6c9e9206125e"
      },
      "outputs": [
        {
          "name": "stdout",
          "output_type": "stream",
          "text": [
            "You are eligible to vote.\n"
          ]
        }
      ],
      "source": [
        "# Example of Keyword used in program.\n",
        "# Syntex for Using if Keyword\n",
        "''' if element in sequence:\n",
        "    statement '''\n",
        "age = 20\n",
        "\n",
        "if age >= 18:\n",
        "  print(\"You are eligible to vote.\")"
      ]
    },
    {
      "cell_type": "markdown",
      "metadata": {
        "id": "arj1PQfAtW0e"
      },
      "source": [
        "#### ***Q.3 Compare and contrast Mutable and Immutable objects in python with example.***\n",
        "\n",
        "Ans :- Mutable Objects are the objects that can be changed after creation such as lists and dictionaries can be modified after creation. In mutable objects changes made to the object directly affect the object's value.\n",
        "Whereas, Immutable objects are the object which cannot be modified after the creation it will remain same during always such as tuples and strings. In immutable objects any operation that appears to modify the object creates a new object.\n",
        "\n",
        "\n",
        "\n"
      ]
    },
    {
      "cell_type": "code",
      "execution_count": null,
      "metadata": {
        "id": "cfWj2ip7tW0e",
        "outputId": "123a8e81-d6c9-4490-96e1-e3055056fb2d"
      },
      "outputs": [
        {
          "name": "stdout",
          "output_type": "stream",
          "text": [
            "Original list:  [10, 'assisment', 'incomplete', True]\n",
            "Modified list:  [10, 'assisment', 'Complete', True]\n"
          ]
        }
      ],
      "source": [
        "# Example of Mutable object\n",
        "# Lists are mutable\n",
        "\n",
        "my_list = [10, \"assisment\", \"incomplete\", True]\n",
        "print(\"Original list: \",my_list)\n",
        "\n",
        "\n",
        "my_list[2] = \"Complete\" # The value of object is changed and new value assigned\n",
        "print(\"Modified list: \",my_list)"
      ]
    },
    {
      "cell_type": "code",
      "execution_count": null,
      "metadata": {
        "id": "FVLTTmt1tW0g",
        "outputId": "bde68cb4-4784-40f9-f961-d57d13f4ae2a"
      },
      "outputs": [
        {
          "name": "stdout",
          "output_type": "stream",
          "text": [
            "Hello\n",
            "Jello\n"
          ]
        }
      ],
      "source": [
        "# Example of Immutable object\n",
        "\n",
        "# Example of an immutable object: String\n",
        "my_string = \"Hello\"\n",
        "print(my_string)  # Output: Hello\n",
        "\n",
        "# Trying to modify the string directly\n",
        "# my_string[0] = 'J'  # This will raise a TypeError because strings are immutable\n",
        "\n",
        "# Instead, we can create a new string with the desired changes\n",
        "new_string = 'J' + my_string[1:]\n",
        "print(new_string)  # Output: Jello and it will create a new string"
      ]
    },
    {
      "cell_type": "markdown",
      "metadata": {
        "id": "jm2ajnCitW0i"
      },
      "source": [
        "#### ***Q.4 Discuss the different type of operators in python and provide examples of how they are used.***\n",
        "\n",
        "Ans :- In python, Operators are used to perform operations on values and variables. These are standard symbols used for logical and arithmetic operations. Types of Operators are as follws :-\n",
        "\n",
        "1.  *Arithmetic operators* :- Used for calculations and algebraic expressions, these include addition (+), subtraction (-), multiplication (), division (/), exponentiation (*), modulo (%), and floor division (//).\n",
        "2.  *Logical operators* :- Used to make decisions based on multiple conditions, these include and, or, and not.\n",
        "3.  *Assignment operators* :- Used to assign values to variables, these are the most commonly used operators in Python. The left side of the assignment is equal to the right side.\n",
        "4.  *Bitwise operators* :- Used to manipulate individual bits in binary numbers or bit patterns, these are a fundamental component of Python programming.\n",
        "5.  *Identity operators* :- Used to compare the memory locations of two objects.\n",
        "6.  *Relational operators* :- Used to establish a relationship between two entities, these typically involve comparisons such as equality, inequality, greater than, and less than.\n",
        "7.  *Membership operators* :- Used to test whether a value is a member of a sequence, such as a string, list, tuple, or set. Python provides two membership operators: in and not in.\n",
        "8. *Shift Operators* :-It is used to shift the bits to the sepecific number position. left shift \"<<\", right shift \">>\" are the two shift operators."
      ]
    },
    {
      "cell_type": "code",
      "execution_count": null,
      "metadata": {
        "id": "KYUOXs-ltW0j"
      },
      "outputs": [],
      "source": [
        "#Examples of Operators.\n",
        "\n",
        "#1. Arithmetic Operators\n",
        "x = 10\n",
        "y = 5\n",
        "\n",
        "print(x + y)  # Addition: 15\n",
        "print(x - y)  # Subtraction: 5\n",
        "print(x * y)  # Multiplication: 50\n",
        "print(x / y)  # Division: 2.0\n",
        "print(x % y)  # Modulus (remainder): 0\n",
        "print(x ** y)  # Exponentiation: 100000\n",
        "print(x // y)  # Floor division: 2\n",
        "\n",
        "\n",
        "#2. Comparison Operators\n",
        "print(x == y)  # Equal to: False\n",
        "print(x != y)  # Not equal to: True\n",
        "print(x > y)   # Greater than: True\n",
        "print(x < y)   # Less than: False\n",
        "print(x >= y)  # Greater than or equal to: True\n",
        "print(x <= y)  # Less than or equal to: False\n",
        "\n",
        "\n",
        "#3. Logical Operators\n",
        "a = True\n",
        "b = False\n",
        "\n",
        "print(a and b)  # Logical AND: False\n",
        "print(a or b)   # Logical OR: True\n",
        "print(not a)    # Logical NOT: False\n",
        "\n",
        "\n",
        "#4. Bitwise Operators\n",
        "c = 10  # Binary: 1010\n",
        "d = 5   # Binary: 0101\n",
        "\n",
        "print(c & d)  # Bitwise AND: 0 (Binary: 0000)\n",
        "print(c | d)  # Bitwise OR: 15 (Binary: 1111)\n",
        "print(c ^ d)  # Bitwise XOR: 15 (Binary: 1111)\n",
        "print(~c)    # Bitwise NOT: -11 (Binary: -(1011))\n",
        "print(c << 2) # Left shift: 40 (Binary: 101000)\n",
        "print(c >> 2) # Right shift: 2 (Binary: 0010)\n",
        "\n",
        "\n",
        "#5. Assignment Operators\n",
        "e = 10\n",
        "e += 5  # Equivalent to e = e + 5\n",
        "print(e)  # Output: 15\n",
        "\n",
        "e -= 2  # Equivalent to e = e - 2\n",
        "print(e)  # Output: 13\n",
        "\n",
        "e *= 3  # Equivalent to e = e * 3\n",
        "print(e)  # Output: 39\n",
        "\n",
        "e /= 4  # Equivalent to e = e / 4\n",
        "print(e)  # Output: 9.75\n",
        "\n",
        "e %= 2  # Equivalent to e = e % 2\n",
        "print(e)  # Output: 1.75\n",
        "\n",
        "e **= 2 # Equivalent to e = e ** 2\n",
        "print(e) # Output: 3.0625\n",
        "\n",
        "\n",
        "#6. Identity Operators\n",
        "f = [1, 2, 3]\n",
        "g = f\n",
        "\n",
        "print(f is g)  # Output: True (f and g refer to the same object in memory)\n",
        "print(f is not g) # Output: False\n",
        "\n",
        "h = [1, 2, 3]  # A new list object, even with the same elements\n",
        "print(f is h)  # Output: False (f and h are different objects)\n",
        "\n",
        "\n",
        "#7. Membership Operators\n",
        "i = [1, 2, 3, 4, 5]\n",
        "print(3 in i)  # Output: True (3 is present in list i)\n",
        "print(6 not in i)  # Output: True (6 is not present in list i)\n"
      ]
    },
    {
      "cell_type": "markdown",
      "metadata": {
        "id": "xq1F02WctW0k"
      },
      "source": [
        "#### ***Q.5 Explain the concept of type casting in python with example.***\n",
        "\n",
        "Ans :- Type casting is the process of changing a variable's data type to another. It is of Two type :-\n",
        "1.  Implicit Type casting :- In this system automatically changes the data type of variable without user intervention. Ex. Adding integer to a Float, it automatically get converted into Float.\n",
        "2.  Explicit Type casting :- In this programmer manually changes the data type of variable using predefined functions like int(), float(), str() etc."
      ]
    },
    {
      "cell_type": "code",
      "source": [
        "# Example of Implicit Type casting\n",
        "\n",
        "# Implicit Type Casting Example\n",
        "int_num = 10\n",
        "float_num = 5.5\n",
        "\n",
        "result = int_num + float_num\n",
        "\n",
        "print(\"Result:\", result)\n",
        "print(\"Data Type of result:\", type(result))"
      ],
      "metadata": {
        "id": "jXZFZnP9wPou"
      },
      "execution_count": null,
      "outputs": []
    },
    {
      "cell_type": "code",
      "source": [
        "# Example of explicit Type casting\n",
        "\n",
        "# Integer to Float\n",
        "num_int = 10\n",
        "num_float = float(num_int)\n",
        "print(num_float)  # Output: 10.0\n",
        "print(\"Data Type :\", type(num_float))  # Output: <class 'float'>\n",
        "\n",
        "# Float to Integer\n",
        "num_float = 10.5\n",
        "num_int = int(num_float)\n",
        "print(num_int)  # Output: 10\n",
        "print(\"Data Type :\", type(num_int))  # Output: <class 'int'>\n",
        "\n",
        "# String to Integer\n",
        "str_num = \"20\"\n",
        "num_int = int(str_num)\n",
        "print(num_int)  # Output: 20\n",
        "print(\"Data Type :\", type(num_int))  # Output: <class 'int'>\n",
        "\n",
        "# Integer to String\n",
        "num_int = 30\n",
        "str_num = str(num_int)\n",
        "print(str_num)  # Output: \"30\"\n",
        "print(\"Data Type :\", type(str_num))  # Output: <class 'str'>\n",
        "\n",
        "# String to Float\n",
        "str_num = \"3.14\"\n",
        "num_float = float(str_num)\n",
        "print(num_float)  # Output: 3.14\n",
        "print(\"Data Type :\", type(num_float))  # Output: <class 'float'>\n"
      ],
      "metadata": {
        "id": "nnVsEpzMvOgn"
      },
      "execution_count": null,
      "outputs": []
    },
    {
      "cell_type": "markdown",
      "metadata": {
        "id": "WSHOsGXItW0l"
      },
      "source": [
        "#### ***Q.6 How do the conditional statements work in python? Illustrate with example.***\n",
        "\n",
        "Ans :- Conditional Statements are statements that provide a choice for the control flow based on a condition. It means that the control flow of the program will be decided based on the outcome of the condition.\n",
        "\n",
        "1.  *If Conditional Statement :-* In this, the block of code will execute only when the 'If' condition matches.\n",
        "\n",
        "2.  *If else Conditional Statements :-* In a conditional if Statement the additional block of code is merged as an else statement which is performed when if condition is false.\n",
        "\n",
        "3.  *Nested if..else Conditional Statements :-* If we use one if or else if statement inside another if or else if statements then it is called as Nested if..else statement.\n",
        "\n",
        "4.  *If-elif-else Conditional Statements :-* It is a ladder type of Conditional statement, where the Block of code will execute only if the associated condition matches and rest will be bypassed and If none of the conditions is true, then the final “else” statement will be executed.\n",
        "The if statements are executed from the top down. As soon as one of the conditions controlling the if is true, the statement associated with that if is executed, and the rest of the ladder is bypassed."
      ]
    },
    {
      "cell_type": "code",
      "source": [
        "#1. Syntax for If Conditional Statement :-\n",
        "  #if condition:\n",
        "      #execute code block\n",
        "#Example :-\n",
        "\n",
        "age = 18\n",
        "\n",
        "if age >= 18:\n",
        "  print(\"You are eligible to vote.\")\n",
        "\n",
        "#2. Syntax for If-else Conditional Statement :-\n",
        "  #if condition:\n",
        "      #execute code block\n",
        "  #else:\n",
        "      #execute code block\n",
        "\n",
        "#Example :-\n",
        "\n",
        "age = 17\n",
        "\n",
        "if age >= 18:\n",
        "  print(\"You are eligible to vote.\")\n",
        "else:\n",
        "  print(\"You are not eligible to vote.\")\n",
        "\n",
        "#3. Syntax for Nested if..else Conditional Statement :-\n",
        "  #if condition:\n",
        "      #execute code block\n",
        "  #else:\n",
        "      #if condition:\n",
        "          #execute code block\n",
        "      #else:\n",
        "          #execute code block\n",
        "\n",
        "#Example :-\n",
        "\n",
        "# list of numbers\n",
        "list_of_numbers = [4,5,9,17,21]\n",
        "\n",
        "# for loop to iterate through  the list and check each element of the list\n",
        "for i in list_of_numbers:\n",
        "\n",
        "    # condition1: check if no. is odd\n",
        "    # if yes execute the code block inside the first if statement\n",
        "    if i%2!=0:\n",
        "\n",
        "        # condition2: check if no. is  also divisible by 3.\n",
        "        if i%3==0:\n",
        "\n",
        "            # if condition2 is true\n",
        "            # execute the below code block\n",
        "            print (i,\"is an odd number & divisible by 3\")\n",
        "\n",
        "        # if codition2 if False\n",
        "        # execute the below code block\n",
        "\n",
        "        else:\n",
        "            print (i, \"is an odd number but not divisible by 3\")\n",
        "\n",
        "    # if condition1 is False\n",
        "    # execute the below code block\n",
        "    else:\n",
        "        print(i,\"is an even number\")\n",
        "\n",
        "#4. Syntax for If-elif-else Conditional Statements :-\n",
        "  #if condition:\n",
        "      #execute code block\n",
        "  #elif condition:\n",
        "      #execute code block\n",
        "  #elif condition:\n",
        "      #execute code block\n",
        "  #else:\n",
        "      #execute code block\n",
        "\n",
        "#Example :-\n",
        "\n",
        "score = 85\n",
        "\n",
        "if score >= 90:\n",
        "  print(\"Grade: A\")\n",
        "elif score >= 80:\n",
        "  print(\"Grade: B\")\n",
        "elif score >= 70:\n",
        "  print(\"Grade: C\")\n",
        "elif score >= 60:\n",
        "  print(\"Grade: D\")\n",
        "else:\n",
        "  print(\"Grade: F\")\n",
        "\n"
      ],
      "metadata": {
        "id": "g6u3rQjK-hFe"
      },
      "execution_count": null,
      "outputs": []
    },
    {
      "cell_type": "markdown",
      "metadata": {
        "id": "AA8NDXYGtW0l"
      },
      "source": [
        "#### ***Q.7 Describe the different type of loops in python and their uses with examples.***\n",
        "\n",
        "Ans :- A loop is an instruction that repeats multiple times as long as some condition is met.\n",
        "In Python there are three types of Loop :-\n",
        "1.  *for Loop* :- A for loop in Python is used to iterate over a sequence (list, tuple, set, dictionary, and string).\n",
        "\n",
        "2. *while loop* :- The while loop is used to execute a set of statements as long as a condition is true.\n",
        "\n",
        "3.  *Nested Loop* :- If a loop exists inside the body of another loop, it is called a nested loop."
      ]
    },
    {
      "cell_type": "code",
      "source": [
        "#1. Syntex of For Loop :-\n",
        "  #for variable in sequence:\n",
        "      #statement(s)\n",
        "\n",
        "#Example :-\n",
        "\n",
        "fruits = [\"apple\", \"banana\", \"cherry\"]\n",
        "for fruit in fruits:\n",
        "  print(fruit)\n",
        "\n",
        "#2. Syntex of While Loop :-\n",
        "  #while condition:\n",
        "      #statement(s)\n",
        "\n",
        "#Example :-\n",
        "\n",
        "i = 1\n",
        "while i < 6:\n",
        "  print(i)\n",
        "  i += 1\n",
        "\n",
        "#3. Syntex of Nested Loop :-\n",
        "  #for val in sequence:\n",
        "      #statement(s)\n",
        "      #for val in sequence:\n",
        "          #statement(s)\n",
        "\n",
        "#Example :-\n",
        "\n",
        "adj = [\"red\", \"big\", \"tasty\"]\n",
        "fruits = [\"apple\", \"banana\", \"cherry\"]\n",
        "\n",
        "for x in adj:\n",
        "  for y in fruits:\n",
        "    print(x, y)\n"
      ],
      "metadata": {
        "colab": {
          "base_uri": "https://localhost:8080/"
        },
        "id": "pvchT5V7ZVXC",
        "outputId": "f930d001-9f94-4a8d-982f-e0fb7eb485d6"
      },
      "execution_count": 1,
      "outputs": [
        {
          "output_type": "stream",
          "name": "stdout",
          "text": [
            "apple\n",
            "banana\n",
            "cherry\n",
            "1\n",
            "2\n",
            "3\n",
            "4\n",
            "5\n",
            "red apple\n",
            "red banana\n",
            "red cherry\n",
            "big apple\n",
            "big banana\n",
            "big cherry\n",
            "tasty apple\n",
            "tasty banana\n",
            "tasty cherry\n"
          ]
        }
      ]
    }
  ],
  "metadata": {
    "kernelspec": {
      "display_name": "Python 3",
      "language": "python",
      "name": "python3"
    },
    "language_info": {
      "codemirror_mode": {
        "name": "ipython",
        "version": 3
      },
      "file_extension": ".py",
      "mimetype": "text/x-python",
      "name": "python",
      "nbconvert_exporter": "python",
      "pygments_lexer": "ipython3",
      "version": "3.11.9"
    },
    "colab": {
      "provenance": []
    }
  },
  "nbformat": 4,
  "nbformat_minor": 0
}