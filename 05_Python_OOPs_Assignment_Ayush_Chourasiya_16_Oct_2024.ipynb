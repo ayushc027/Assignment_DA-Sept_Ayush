{
  "nbformat": 4,
  "nbformat_minor": 0,
  "metadata": {
    "colab": {
      "provenance": []
    },
    "kernelspec": {
      "name": "python3",
      "display_name": "Python 3"
    },
    "language_info": {
      "name": "python"
    }
  },
  "cells": [
    {
      "cell_type": "markdown",
      "source": [
        "#### ***Q.1 . What are the five key concepts of Object-Oriented Programming (OOP)?***\n",
        "\n",
        "**Ans :-** The five key concepts of Object-Oriented Programming (OOP) in Python are :-\n",
        "1.  **Class:** Class is defined as a blueprint for creating objects. It defines the attributes (data) and methods (functions) that the objects created from the class will have. For example, a Car class might have attributes like color and model, and methods like start() and stop().\n",
        "\n",
        "2.  **Object:** Objects are an instance of a class. When a class is defined, no memory is allocated until an object is created from it. Objects hold the actual data and the functionality that is defined in the class.\n",
        "\n",
        "3.  **Encapsulation:** Encapsulation is the practice of hiding the internal state and functionality of an object and only exposing a limited interface. In Python, encapsulation is achieved through access modifiers like public, private, and protected attributes or methods (e.g., prefixing with underscores).\n",
        "\n",
        "4.  **Inheritance:** It is a mechanism for creating a new class that reuses, extends, or modifies the behavior of an existing class. The new class (called a child or subclass) inherits the properties and methods of the parent class.\n",
        "\n",
        "5.  **Polymorphism:** The ability to use a common interface for different data types. It allows objects of different classes to be treated as objects of a common super class. In Python, this is often used with method overriding and operator overloading.\n",
        "\n",
        "These core concepts help in designing flexible, reusable, and organized code using OOP principles."
      ],
      "metadata": {
        "id": "0coYLbpCj1Hx"
      }
    },
    {
      "cell_type": "markdown",
      "source": [
        "#### ***Q.2 Write a Python class for a `Car` with attributes for `make`, `model`, and `year`. Include a method to display the car's information.***\n",
        "\n",
        "**Ans :-** Here's a Python class for a Car with attributes for make, model, and year, along with a method to display the car's information:-"
      ],
      "metadata": {
        "id": "QU-_BdUBkWmW"
      }
    },
    {
      "cell_type": "code",
      "source": [
        "class Car:\n",
        "    def __init__(self, make, model, year):\n",
        "        self.make = make\n",
        "        self.model = model\n",
        "        self.year = year\n",
        "\n",
        "    def display_info(self):\n",
        "        print(f\"Make: {self.make}\")\n",
        "        print(f\"Model: {self.model}\")\n",
        "        print(f\"Year: {self.year}\")\n",
        "\n",
        "# Example usage\n",
        "my_car = Car(\"Toyota\", \"Camry\", 2023)\n",
        "my_car.display_info()\n",
        "\n",
        "'''\n",
        "In this class:\n",
        "\n",
        "    The __init__ method initializes the attributes make, model, and year when a Car object is created.\n",
        "    The display_info method prints out the car's information in a readable format.\n",
        "'''"
      ],
      "metadata": {
        "colab": {
          "base_uri": "https://localhost:8080/",
          "height": 107
        },
        "id": "phXOg_lt1t6Q",
        "outputId": "ffbfdc3d-9b7b-4cbc-c384-86904c27ada8"
      },
      "execution_count": 1,
      "outputs": [
        {
          "output_type": "stream",
          "name": "stdout",
          "text": [
            "Make: Toyota\n",
            "Model: Camry\n",
            "Year: 2023\n"
          ]
        },
        {
          "output_type": "execute_result",
          "data": {
            "text/plain": [
              "\"\\nIn this class:\\n\\n    The __init__ method initializes the attributes make, model, and year when a Car object is created.\\n    The display_info method prints out the car's information in a readable format.\\n\""
            ],
            "application/vnd.google.colaboratory.intrinsic+json": {
              "type": "string"
            }
          },
          "metadata": {},
          "execution_count": 1
        }
      ]
    },
    {
      "cell_type": "markdown",
      "source": [
        "#### ***Q.3 Explain the difference between instance methods and class methods. Provide an example of each.***\n",
        "\n",
        "**Ans :-** In Python, instance methods and class methods serve different purposes and have distinct characteristics. Here's a breakdown of the differences between the two:\n",
        "\n",
        "1. **Instance Methods**\n",
        "  * **Definition:** Instance methods are the most common type of method in a class. They operate on an instance of the class (i.e., an object), and they have access to instance variables and methods.\n",
        "  * **Usage:** These methods require an instance of the class to be called and typically work with instance attributes.\n",
        "  * **Self Parameter:** Instance methods take the first parameter self, which refers to the instance calling the method.\n",
        "\n",
        "2. **Class Methods**\n",
        "  * **Definition:** Class methods operate on the class itself rather than instances of the class. They are often used when you want to modify or access class-level data.\n",
        "  * **Usage:** These methods work with class variables and don’t depend on instance-specific data. They can be called on the class itself or an instance of the class.\n",
        "  * **Cls Parameter:** Class methods take cls as the first parameter, which refers to the class, not the instance.\n",
        "  * **Decorator:** Class methods are marked with the @classmethod decorator.\n",
        "\n",
        "**Key Differences:**\n",
        "    \n",
        "  * Instance methods are called on an instance and can access and modify instance-specific data.\n",
        "  * Class methods are called on the class and deal with class-level data, using the @classmethod decorator."
      ],
      "metadata": {
        "id": "ZJqhcbbzkapM"
      }
    },
    {
      "cell_type": "code",
      "source": [
        "## Example of an Instance Method:***\n",
        "\n",
        "class Car:\n",
        "    def __init__(self, make, model, year):\n",
        "        self.make = make\n",
        "        self.model = model\n",
        "        self.year = year\n",
        "\n",
        "    # Instance method\n",
        "    def display_info(self):\n",
        "        print(f\"Car Information: {self.year} {self.make} {self.model}\")\n",
        "\n",
        "# Creating an instance of Car\n",
        "my_car = Car(\"Toyota\", \"Corolla\", 2020)\n",
        "my_car.display_info()  # Calls the instance method"
      ],
      "metadata": {
        "colab": {
          "base_uri": "https://localhost:8080/"
        },
        "id": "BmGww_sc3nt8",
        "outputId": "2fe92972-eec9-4924-9449-080eedd46033"
      },
      "execution_count": 3,
      "outputs": [
        {
          "output_type": "stream",
          "name": "stdout",
          "text": [
            "Car Information: 2020 Toyota Corolla\n"
          ]
        }
      ]
    },
    {
      "cell_type": "code",
      "source": [
        "## Example of a Class Method:***\n",
        "\n",
        "class Car:\n",
        "    # Class attribute\n",
        "    total_cars = 0\n",
        "\n",
        "    def __init__(self, make, model, year):\n",
        "        self.make = make\n",
        "        self.model = model\n",
        "        self.year = year\n",
        "        Car.total_cars += 1\n",
        "\n",
        "    # Instance method\n",
        "    def display_info(self):\n",
        "        print(f\"Car Information: {self.year} {self.make} {self.model}\")\n",
        "\n",
        "    # Class method\n",
        "    @classmethod\n",
        "    def total_car_count(cls):\n",
        "        print(f\"Total cars created: {cls.total_cars}\")\n",
        "\n",
        "# Creating instances of Car\n",
        "car1 = Car(\"Toyota\", \"Corolla\", 2020)\n",
        "car2 = Car(\"Honda\", \"Civic\", 2021)\n",
        "\n",
        "# Calling class method on the class\n",
        "Car.total_car_count()\n",
        "\n",
        "# Calling class method on an instance\n",
        "car1.total_car_count()\n",
        "\n",
        "## In the example, display_info() is an instance method that shows specific car details,\n",
        "## while total_car_count() is a class method that operates on class-level data (tracking the number of cars created)."
      ],
      "metadata": {
        "colab": {
          "base_uri": "https://localhost:8080/",
          "height": 89
        },
        "id": "yt7o2F_R37kw",
        "outputId": "70dd7756-7ade-4f42-d393-3e4d04919ea2"
      },
      "execution_count": 6,
      "outputs": [
        {
          "output_type": "stream",
          "name": "stdout",
          "text": [
            "Total cars created: 2\n",
            "Total cars created: 2\n"
          ]
        },
        {
          "output_type": "execute_result",
          "data": {
            "text/plain": [
              "'\\nIn the example, display_info() is an instance method that shows specific car details,\\nwhile total_car_count() is a class method that operates on class-level data (tracking the number of cars created).\\n'"
            ],
            "application/vnd.google.colaboratory.intrinsic+json": {
              "type": "string"
            }
          },
          "metadata": {},
          "execution_count": 6
        }
      ]
    },
    {
      "cell_type": "markdown",
      "source": [
        "#### ***Q.4 How does Python implement method overloading? Give an example.***\n",
        "\n",
        "**Ans :-** Python does not support method overloading in the traditional sense, as seen in languages like Java or C++. In those languages, we can define multiple methods with the same name but different parameter types or counts, and the appropriate method is called based on the arguments passed.\n",
        "\n",
        "In Python, however, method overloading is handled differently because functions in Python are distinguished by their name only, not by their parameters. If we define multiple methods with the same name, the last definition will override the previous ones.\n",
        "\n",
        "**How to Achieve Method Overloading in Python**\n",
        "Python achieves a similar effect to method overloading using techniques like:\n",
        "1.  **Default arguments:** We can set default values for parameters.\n",
        "2.  **Variable-length arguments:** Using *args or **kwargs, we can accept any number of arguments.\n",
        "3.  **Type-checking within the method:** We can manually inspect the arguments inside the method.\n",
        "\n",
        "**Conclusion:**\n",
        "  While Python doesn't have native method overloading, you can achieve similar functionality by using default arguments, *args, **kwargs, or manual type-checking within the method to differentiate behavior based on the arguments provided."
      ],
      "metadata": {
        "id": "gIqxTZCmka6O"
      }
    },
    {
      "cell_type": "code",
      "source": [
        "## Example of Method Overloading Using Default and Variable-Length Arguments**\n",
        "\n",
        "## Here’s an example using default arguments and variable-length arguments (*args):*\n",
        "\n",
        "\n",
        "class Calculator:\n",
        "    # Method that accepts a variable number of arguments\n",
        "    def add(self, *args):\n",
        "        # If no arguments, return 0\n",
        "        if not args:\n",
        "            return 0\n",
        "        # Sum all provided arguments\n",
        "        return sum(args)\n",
        "\n",
        "# Example usage\n",
        "calc = Calculator()\n",
        "\n",
        "# Different ways to call the same 'add' method\n",
        "print(calc.add())          # Output: 0 (no arguments)\n",
        "print(calc.add(10))        # Output: 10 (one argument)\n",
        "print(calc.add(10, 20))    # Output: 30 (two arguments)\n",
        "print(calc.add(1, 2, 3, 4)) # Output: 10 (multiple arguments)\n",
        "\n",
        "## In this example:\n",
        "##    The add method can accept a variable number of arguments using *args.\n",
        "##    The method checks the number of arguments and handles them accordingly.\n"
      ],
      "metadata": {
        "colab": {
          "base_uri": "https://localhost:8080/"
        },
        "id": "LjyFJhZj54GS",
        "outputId": "897cd02c-4fe3-467f-e3ec-d1a6586151e5"
      },
      "execution_count": 8,
      "outputs": [
        {
          "output_type": "stream",
          "name": "stdout",
          "text": [
            "0\n",
            "10\n",
            "30\n",
            "10\n"
          ]
        }
      ]
    },
    {
      "cell_type": "code",
      "source": [
        "##  Example Using Type-Checking for Overloading Behavior\n",
        "##  You can also mimic overloading by using type checks within the method:\n",
        "\n",
        "class Calculator:\n",
        "    # Method that checks the type and number of arguments\n",
        "    def add(self, a, b=None):\n",
        "        # If only one argument is provided\n",
        "        if b is None:\n",
        "            return a\n",
        "        # If two arguments are provided\n",
        "        else:\n",
        "            return a + b\n",
        "\n",
        "# Example usage\n",
        "calc = Calculator()\n",
        "\n",
        "print(calc.add(10))         # Output: 10 (only one argument)\n",
        "print(calc.add(10, 20))     # Output: 30 (two arguments)\n",
        "\n",
        "##  In this example:\n",
        "##      The add method can behave differently based on the number of arguments provided.\n",
        "##      It checks if the second argument b is None, implying only one argument was passed."
      ],
      "metadata": {
        "id": "8JmT3M196pi1"
      },
      "execution_count": null,
      "outputs": []
    },
    {
      "cell_type": "markdown",
      "source": [
        "#### ***Q.5 What are the three types of access modifiers in Python? How are they denoted?***\n",
        "\n",
        "**Ans :-** In Python, there are three types of access modifiers used to control the visibility of class members (attributes and methods). These are public, protected, and private. Python doesn't enforce strict access control like some other languages (e.g., Java or C++), but it uses naming conventions to indicate the intended level of access.\n",
        "\n",
        "1. **Public**\n",
        "  * **Description:** Public members (attributes or methods) are accessible from anywhere—both inside and outside the class. By default, all members in Python are public unless explicitly defined otherwise.\n",
        "  * **Denotation:** Public members are declared normally, without any leading underscores.\n",
        "\n",
        "2. **Protected**\n",
        "  * **Description:** Protected members are intended to be accessible within the class and by derived (sub) classes. Python doesn't enforce this protection strictly, but it's a convention that protected members should not be accessed outside the class or its subclasses.\n",
        "  * **Denotation:** Protected members are denoted by a single leading underscore (_).  \n",
        "\n",
        "3. **Private**\n",
        "  * **Description:** Private members are intended to be accessible only within the class where they are defined. They are not accessible from outside the class or by any subclass.\n",
        "  * **Denotation:** Private members are denoted by two leading underscores (__).\n",
        "\n",
        "**Summary of Access Modifiers:**\n",
        "```\n",
        "Modifier    |      Syntax         |        Access Level\n",
        "Public      |   self.attribute    |   Accessible from anywhere (default)\n",
        "Protected   |   _self.attribute   |   Accessible within the class and its subclasses (by convention)\n",
        "Private     |  __self.attribute   |   Accessible only within the class, not outside or in subclasses\n",
        "```"
      ],
      "metadata": {
        "id": "5Bl5UXE9kbBI"
      }
    },
    {
      "cell_type": "code",
      "source": [
        "## Example of Public Class\n",
        "\n",
        "class Car:\n",
        "    def __init__(self, make, model):\n",
        "        self.make = make  # Public attribute\n",
        "        self.model = model  # Public attribute\n",
        "\n",
        "    def display_info(self):  # Public method\n",
        "        print(f\"Car: {self.make} {self.model}\")\n",
        "\n",
        "my_car = Car(\"Toyota\", \"Corolla\")\n",
        "print(my_car.make)  # Accessible outside the class\n",
        "my_car.display_info()  # Accessible outside the class\n"
      ],
      "metadata": {
        "colab": {
          "base_uri": "https://localhost:8080/"
        },
        "id": "VwzRDSHF75Uf",
        "outputId": "49d2e3ba-eb1a-40a3-e720-4be074fb9d34"
      },
      "execution_count": 9,
      "outputs": [
        {
          "output_type": "stream",
          "name": "stdout",
          "text": [
            "Toyota\n",
            "Car: Toyota Corolla\n"
          ]
        }
      ]
    },
    {
      "cell_type": "code",
      "source": [
        "# Example of Protected Class\n",
        "\n",
        "class Car:\n",
        "    def __init__(self, make, model):\n",
        "        self._make = make  # Protected attribute\n",
        "        self._model = model  # Protected attribute\n",
        "\n",
        "    def _display_info(self):  # Protected method\n",
        "        print(f\"Car: {self._make} {_model}\")\n",
        "\n",
        "class ElectricCar(Car):\n",
        "    def show_info(self):\n",
        "        print(f\"Electric Car: {self._make} {self._model}\")  # Accessing protected attribute\n",
        "\n",
        "my_car = Car(\"Toyota\", \"Corolla\")\n",
        "print(my_car._make)  # Though not recommended, this is still accessible outside\n",
        "\n",
        "# In this example, _make and _model are protected attributes, and while accessible outside the class, it is discouraged by convention."
      ],
      "metadata": {
        "colab": {
          "base_uri": "https://localhost:8080/"
        },
        "id": "OYrQkn6Y8GmS",
        "outputId": "7495fe7b-0c56-4b2f-cadc-8e8b4707cdc2"
      },
      "execution_count": 11,
      "outputs": [
        {
          "output_type": "stream",
          "name": "stdout",
          "text": [
            "Toyota\n"
          ]
        }
      ]
    },
    {
      "cell_type": "code",
      "source": [
        "# Example of Private Class\n",
        "\n",
        "class Car:\n",
        "    def __init__(self, make, model):\n",
        "        self.__make = make  # Private attribute\n",
        "        self.__model = model  # Private attribute\n",
        "\n",
        "    def __display_info(self):  # Private method\n",
        "        print(f\"Car: {self.__make} {self.__model}\")\n",
        "\n",
        "    def public_method(self):\n",
        "        self.__display_info()  # Private method can be accessed within the class\n",
        "\n",
        "my_car = Car(\"Toyota\", \"Corolla\")\n",
        "# print(my_car.__make)  # This will raise an AttributeError\n",
        "my_car.public_method()  # This works because the private method is called inside a public method\n",
        "\n",
        "# In this example, __make and __model are private attributes and are not accessible directly outside the class.\n",
        "#  Attempting to access them directly will raise an error.\n"
      ],
      "metadata": {
        "colab": {
          "base_uri": "https://localhost:8080/"
        },
        "id": "KevdArGb8Ya6",
        "outputId": "71558432-6736-4fdc-e136-ad5aba69e75d"
      },
      "execution_count": 12,
      "outputs": [
        {
          "output_type": "stream",
          "name": "stdout",
          "text": [
            "Car: Toyota Corolla\n"
          ]
        }
      ]
    },
    {
      "cell_type": "markdown",
      "source": [
        "#### ***Q.6 Describe the five types of inheritance in Python. Provide a simple example of multiple inheritance.***\n",
        "\n",
        "**Ans :-** In Python, inheritance allows a class to inherit properties and behaviors (methods) from another class. Python supports five types of inheritance:\n",
        "1. **Single Inheritance :-** A class inherits from a single parent class.\n",
        "```\n",
        "#Example\n",
        "    class Animal:\n",
        "        def speak(self):\n",
        "            print(\"Animal speaks\")\n",
        "    class Dog(Animal):\n",
        "        def bark(self):\n",
        "            print(\"Dog barks\")\n",
        "```\n",
        "2. **Multiple Inheritance :-** A class inherits from more than one parent class. This allows the child class to inherit features from all parent classes.\n",
        "```\n",
        "#Example\n",
        "      class Bird:\n",
        "          def fly(self):\n",
        "              print(\"Bird flies\")\n",
        "      class Fish:\n",
        "          def swim(self):\n",
        "              print(\"Fish swims\")\n",
        "      class FlyingFish(Bird, Fish):\n",
        "          pass\n",
        "      flying_fish = FlyingFish()\n",
        "      flying_fish.fly()   # Output: Bird flies\n",
        "      flying_fish.swim()  # Output: Fish swims\n",
        "```\n",
        "3. **Multilevel Inheritance :-** A class inherits from a parent class, and another class inherits from that derived class. This forms a chain of inheritance.\n",
        "```\n",
        "#Example\n",
        "      class Animal:\n",
        "          def speak(self):\n",
        "              print(\"Animal speaks\")\n",
        "      class Dog(Animal):\n",
        "          def bark(self):\n",
        "              print(\"Dog barks\")\n",
        "      class Puppy(Dog):\n",
        "          def play(self):\n",
        "              print(\"Puppy plays\")\n",
        "```\n",
        "\n",
        "4. **Hierarchical Inheritance :-** Multiple classes inherit from the same parent class.\n",
        "```\n",
        "#Example\n",
        "      class Animal:\n",
        "          def speak(self):\n",
        "              print(\"Animal speaks\")\n",
        "      class Dog(Animal):\n",
        "          def bark(self):\n",
        "              print(\"Dog barks\")\n",
        "      class Cat(Animal):\n",
        "          def meow(self):\n",
        "              print(\"Cat meows\")\n",
        "```\n",
        "\n",
        "5. **Hybrid Inheritance :-** A combination of two or more types of inheritance. For example, it could be a mix of multiple and multilevel inheritance.\n",
        "```\n",
        "#Example\n",
        "      class Animal:\n",
        "          def speak(self):\n",
        "              print(\"Animal speaks\")\n",
        "      class Dog(Animal):\n",
        "          def bark(self):\n",
        "              print(\"Dog barks\")\n",
        "      class Cat(Animal):\n",
        "          def meow(self):\n",
        "              print(\"Cat meows\")\n",
        "      class Puppy(Dog):\n",
        "          def play(self):\n",
        "              print(\"Puppy plays\")\n",
        "```\n"
      ],
      "metadata": {
        "id": "btCT4kqVkbFh"
      }
    },
    {
      "cell_type": "code",
      "source": [
        "# Example of Multiple Inheritance\n",
        "\n",
        "class Engine:\n",
        "    def start_engine(self):\n",
        "        print(\"Engine starts\")\n",
        "\n",
        "class Wheels:\n",
        "    def rotate_wheels(self):\n",
        "        print(\"Wheels rotate\")\n",
        "\n",
        "class Car(Engine, Wheels):\n",
        "    def drive(self):\n",
        "        print(\"Car is driving\")\n",
        "\n",
        "# Create an instance of Car\n",
        "my_car = Car()\n",
        "my_car.start_engine()    # Output: Engine starts\n",
        "my_car.rotate_wheels()   # Output: Wheels rotate\n",
        "my_car.drive()           # Output: Car is driving\n",
        "\n",
        "# In this example:\n",
        "#     Car inherits from both the Engine and Wheels classes.\n",
        "#     The Car class can access the methods start_engine from Engine and rotate_wheels from Wheels, demonstrating multiple inheritance."
      ],
      "metadata": {
        "colab": {
          "base_uri": "https://localhost:8080/"
        },
        "id": "8YXpi3FaBCAW",
        "outputId": "5b773443-d812-4859-e003-6b9dbb34897e"
      },
      "execution_count": 23,
      "outputs": [
        {
          "output_type": "stream",
          "name": "stdout",
          "text": [
            "Engine starts\n",
            "Wheels rotate\n",
            "Car is driving\n"
          ]
        }
      ]
    },
    {
      "cell_type": "markdown",
      "source": [
        "#### ***Q.7 What is the Method Resolution Order (MRO) in Python? How can you retrieve it programmatically?***\n",
        "\n",
        "**Ans :-** The Method Resolution Order (MRO) is the order in which Python looks for a method or attribute in a hierarchy of classes. When a method is called on an instance of a class, Python searches for that method in the class itself first, then in its parent classes, following the MRO until the method is found. This is especially important in the case of multiple inheritance, where a class inherits from more than one parent class.\n",
        "\n",
        "Python uses the C3 Linearization (C3 superclass linearization) algorithm to determine the MRO, ensuring a consistent and predictable order.\n",
        "\n",
        "**Why MRO Matters**\n",
        " * It ensures that the search for methods/attributes is predictable.\n",
        " * It avoids conflicts and ambiguities, especially in complex hierarchies with multiple inheritance.\n",
        " * It guarantees that subclasses are considered before their superclasses, and left-to-right precedence is followed in multiple inheritance.\n",
        "\n",
        "**Retrieving the MRO Programmatically :-** We can retrieve the MRO of a class in Python using either:\n",
        " * The __mro__ attribute: This returns a tuple showing the MRO of the class.\n",
        " * The mro() method: This method returns a list of classes in the MRO.\n",
        "\n",
        "\n",
        " **Example :-**"
      ],
      "metadata": {
        "id": "DpbtSTzxkbI8"
      }
    },
    {
      "cell_type": "code",
      "source": [
        "class A:\n",
        "    def method(self):\n",
        "        print(\"Method in A\")\n",
        "\n",
        "class B(A):\n",
        "    def method(self):\n",
        "        print(\"Method in B\")\n",
        "\n",
        "class C(A):\n",
        "    def method(self):\n",
        "        print(\"Method in C\")\n",
        "\n",
        "class D(B, C):\n",
        "    pass\n",
        "\n",
        "# Creating an instance of D\n",
        "d = D()\n",
        "\n",
        "# Retrieving the MRO\n",
        "print(D.__mro__)  # Using the __mro__ attribute\n",
        "print(D.mro())    # Using the mro() method\n"
      ],
      "metadata": {
        "colab": {
          "base_uri": "https://localhost:8080/"
        },
        "id": "wnRTkQo0CaVE",
        "outputId": "116bcc22-535e-4675-eca0-c9780ca3192c"
      },
      "execution_count": 24,
      "outputs": [
        {
          "output_type": "stream",
          "name": "stdout",
          "text": [
            "(<class '__main__.D'>, <class '__main__.B'>, <class '__main__.C'>, <class '__main__.A'>, <class 'object'>)\n",
            "[<class '__main__.D'>, <class '__main__.B'>, <class '__main__.C'>, <class '__main__.A'>, <class 'object'>]\n"
          ]
        }
      ]
    },
    {
      "cell_type": "markdown",
      "source": [
        "**In this example, the MRO for class D is:**\n",
        "  *  D itself\n",
        "  *  B (the first parent)\n",
        "  *  C (the second parent)\n",
        "  *  A (the grandparent)\n",
        "  *  object (the base class of all classes in Python)\n",
        "\n",
        "**Explanation of MRO for Class D:**\n",
        "  *  Python looks for methods in D first.\n",
        "  *  If not found, it looks in B, then C, and finally in A.\n",
        "  *  If the method is not found in any of these, Python looks in the object class, which is the base class for all Python classes.\n",
        "\n",
        "**Visualizing MRO :-** If we visualize the inheritance hierarchy for the above classes, it would look like this:\n",
        "```\n",
        "   A\n",
        "  / \\\n",
        " B   C\n",
        "  \\ /\n",
        "   D\n",
        "```\n",
        "The MRO ensures a consistent and predictable way of resolving methods in complex inheritance structures like this one."
      ],
      "metadata": {
        "id": "gWILuE7oChl2"
      }
    },
    {
      "cell_type": "markdown",
      "source": [
        "#### ***Q.8 Create an abstract base class `Shape` with an abstract method `area()`. Then create two subclasses `Circle` and `Rectangle` that implement the `area()` method.***\n",
        "\n",
        "**Ans :-** To create an abstract base class in Python, you can use the abc module, which stands for Abstract Base Classes. Below is an example where we define an abstract class Shape with an abstract method area(). We then create two subclasses, Circle and Rectangle, that implement the area() method."
      ],
      "metadata": {
        "id": "opB5oTVnkbOw"
      }
    },
    {
      "cell_type": "code",
      "source": [
        "from abc import ABC, abstractmethod\n",
        "import math\n",
        "\n",
        "class Shape(ABC):\n",
        "    @abstractmethod\n",
        "    def area(self):\n",
        "        pass\n",
        "\n",
        "class Circle(Shape):\n",
        "    def __init__(self, radius):\n",
        "        self.radius = radius\n",
        "\n",
        "    def area(self):\n",
        "        return math.pi * (self.radius ** 2)  # Area of a circle: πr²\n",
        "\n",
        "class Rectangle(Shape):\n",
        "    def __init__(self, width, height):\n",
        "        self.width = width\n",
        "        self.height = height\n",
        "\n",
        "    def area(self):\n",
        "        return self.width * self.height  # Area of a rectangle: width * height\n",
        "\n",
        "# Example usage\n",
        "circle = Circle(5)\n",
        "print(f\"Area of the circle: {circle.area():.2f}\")  # Output: Area of the circle: 78.54\n",
        "\n",
        "rectangle = Rectangle(4, 6)\n",
        "print(f\"Area of the rectangle: {rectangle.area()}\")  # Output: Area of the rectangle: 24\n"
      ],
      "metadata": {
        "colab": {
          "base_uri": "https://localhost:8080/"
        },
        "id": "aQHrfuKADWtJ",
        "outputId": "7226fe64-01ee-41da-b399-973055227c5e"
      },
      "execution_count": 25,
      "outputs": [
        {
          "output_type": "stream",
          "name": "stdout",
          "text": [
            "Area of the circle: 78.54\n",
            "Area of the rectangle: 24\n"
          ]
        }
      ]
    },
    {
      "cell_type": "markdown",
      "source": [
        "#### ***Q.9 Demonstrate polymorphism by creating a function that can work with different shape objects to calculate and print their areas.***\n",
        "\n",
        "**Ans :-** Polymorphism in Python allows functions to operate on objects of different types (classes) as long as those objects implement the same method. In this case, we can create a function that calculates and prints the area of various shape objects, leveraging the area() method defined in each shape class."
      ],
      "metadata": {
        "id": "cZ72Vi_Lkklh"
      }
    },
    {
      "cell_type": "code",
      "source": [
        "# Example\n",
        "\n",
        "from abc import ABC, abstractmethod\n",
        "import math\n",
        "\n",
        "# Abstract Base Class\n",
        "class Shape(ABC):\n",
        "    @abstractmethod\n",
        "    def area(self):\n",
        "        pass\n",
        "\n",
        "# Subclass for Circle\n",
        "class Circle(Shape):\n",
        "    def __init__(self, radius):\n",
        "        self.radius = radius\n",
        "\n",
        "    def area(self):\n",
        "        return math.pi * (self.radius ** 2)  # Area of a circle: πr²\n",
        "\n",
        "# Subclass for Rectangle\n",
        "class Rectangle(Shape):\n",
        "    def __init__(self, width, height):\n",
        "        self.width = width\n",
        "        self.height = height\n",
        "\n",
        "    def area(self):\n",
        "        return self.width * self.height  # Area of a rectangle: width * height\n",
        "\n",
        "# Function to calculate and print the area of different shapes\n",
        "def print_area(shape: Shape):\n",
        "    print(f\"Area: {shape.area():.2f}\")\n",
        "\n",
        "# Example usage\n",
        "circle = Circle(5)\n",
        "rectangle = Rectangle(4, 6)\n",
        "\n",
        "# Using the print_area function with different shape objects\n",
        "print_area(circle)      # Output: Area: 78.54\n",
        "print_area(rectangle)   # Output: Area: 24.00\n"
      ],
      "metadata": {
        "colab": {
          "base_uri": "https://localhost:8080/"
        },
        "id": "P3g_mN58Dpmd",
        "outputId": "48de9ba3-37a6-4015-cd01-6595b6acd08e"
      },
      "execution_count": 26,
      "outputs": [
        {
          "output_type": "stream",
          "name": "stdout",
          "text": [
            "Area: 78.54\n",
            "Area: 24.00\n"
          ]
        }
      ]
    },
    {
      "cell_type": "markdown",
      "source": [
        "#### ***Q.10  Implement encapsulation in a `BankAccount` class with private attributes for `balance` and `account_number`. Include methods for deposit, withdrawal, and balance inquiry.***\n",
        "\n",
        "**Ans :-** Encapsulation in Python is achieved by restricting access to certain attributes and methods of a class, typically by making them private. This is done using the convention of a leading double underscore (__). Below is an implementation of a BankAccount class that demonstrates encapsulation with private attributes for balance and account_number, along with methods for depositing, withdrawing, and inquiring about the balance."
      ],
      "metadata": {
        "id": "v8SVkQ8zklKr"
      }
    },
    {
      "cell_type": "code",
      "source": [
        "class BankAccount:\n",
        "    def __init__(self, account_number, initial_balance=0):\n",
        "        self.__account_number = account_number  # Private attribute for account number\n",
        "        self.__balance = initial_balance          # Private attribute for balance\n",
        "\n",
        "    def deposit(self, amount):\n",
        "        \"\"\"Deposit money into the account.\"\"\"\n",
        "        if amount > 0:\n",
        "            self.__balance += amount\n",
        "            print(f\"Deposited: ${amount:.2f}\")\n",
        "        else:\n",
        "            print(\"Deposit amount must be positive.\")\n",
        "\n",
        "    def withdraw(self, amount):\n",
        "        \"\"\"Withdraw money from the account.\"\"\"\n",
        "        if 0 < amount <= self.__balance:\n",
        "            self.__balance -= amount\n",
        "            print(f\"Withdrew: ${amount:.2f}\")\n",
        "        else:\n",
        "            print(\"Insufficient funds or invalid withdrawal amount.\")\n",
        "\n",
        "    def get_balance(self):\n",
        "        \"\"\"Return the current balance.\"\"\"\n",
        "        return self.__balance\n",
        "\n",
        "    def get_account_number(self):\n",
        "        \"\"\"Return the account number.\"\"\"\n",
        "        return self.__account_number\n",
        "\n",
        "# Example usage\n",
        "if __name__ == \"__main__\":\n",
        "    account = BankAccount(\"123456789\", 1000)  # Create a new bank account\n",
        "\n",
        "    account.deposit(500)                      # Deposit money\n",
        "    print(f\"Current Balance: ${account.get_balance():.2f}\")  # Balance inquiry\n",
        "\n",
        "    account.withdraw(300)                     # Withdraw money\n",
        "    print(f\"Current Balance: ${account.get_balance():.2f}\")  # Balance inquiry\n",
        "\n",
        "    account.withdraw(1500)                    # Attempt to withdraw more than balance\n"
      ],
      "metadata": {
        "colab": {
          "base_uri": "https://localhost:8080/"
        },
        "id": "88EHnyNhEE5L",
        "outputId": "cb1997bd-c1a5-494c-8dca-83a06be0ac6f"
      },
      "execution_count": 27,
      "outputs": [
        {
          "output_type": "stream",
          "name": "stdout",
          "text": [
            "Deposited: $500.00\n",
            "Current Balance: $1500.00\n",
            "Withdrew: $300.00\n",
            "Current Balance: $1200.00\n",
            "Insufficient funds or invalid withdrawal amount.\n"
          ]
        }
      ]
    },
    {
      "cell_type": "markdown",
      "source": [
        "#### ***Q.11 . Write a class that overrides the `__str__` and `__add__` magic methods. What will these methods allow you to do?***\n",
        "\n",
        "**Ans :-** In Python, magic methods (also known as dunder methods) allow you to define how objects of a class behave with built-in functions and operators. The __str__ method is used to define a string representation of an object, which is useful when you want to print or convert an object to a string. The __add__ method allows you to define how two objects of a class can be added together using the + operator.\n",
        "\n",
        "**What These Methods Allow You to Do:**\n",
        "  * **Using `__str__` :**  When we print an instance of the Point class or use str() on it, Python will call the __str__ method. This allows for a human-readable representation of the object, making it easier to understand and debug.\n",
        "  * **Using `__add__`**: We can use the + operator to add two Point objects directly, resulting in a new Point object that represents the vector sum of the two points. This operator overloading allows for intuitive use of the Point class, making the code cleaner and more expressive.\n",
        "\n",
        "Below is an example of a class called Point that overrides the `__str__` and `__add__` magic methods."
      ],
      "metadata": {
        "id": "4q9sFEbeklRz"
      }
    },
    {
      "cell_type": "code",
      "source": [
        "class Point:\n",
        "    def __init__(self, x, y):\n",
        "        self.x = x  # x-coordinate\n",
        "        self.y = y  # y-coordinate\n",
        "\n",
        "    def __str__(self):\n",
        "        \"\"\"Return a string representation of the Point object.\"\"\"\n",
        "        return f\"Point({self.x}, {self.y})\"\n",
        "\n",
        "    def __add__(self, other):\n",
        "        \"\"\"Define addition for two Point objects.\"\"\"\n",
        "        if isinstance(other, Point):\n",
        "            return Point(self.x + other.x, self.y + other.y)\n",
        "        return NotImplemented  # Return NotImplemented if 'other' is not a Point\n",
        "\n",
        "# Example usage\n",
        "if __name__ == \"__main__\":\n",
        "    p1 = Point(1, 2)  # Create Point at (1, 2)\n",
        "    p2 = Point(3, 4)  # Create Point at (3, 4)\n",
        "\n",
        "    # Using the __str__ method\n",
        "    print(p1)  # Output: Point(1, 2)\n",
        "    print(p2)  # Output: Point(3, 4)\n",
        "\n",
        "    # Using the __add__ method\n",
        "    p3 = p1 + p2  # Adding two Point objects\n",
        "    print(p3)  # Output: Point(4, 6)\n"
      ],
      "metadata": {
        "colab": {
          "base_uri": "https://localhost:8080/"
        },
        "id": "yVx7oYfZE6Xc",
        "outputId": "dbcada35-0685-453f-8feb-da188c882e63"
      },
      "execution_count": 28,
      "outputs": [
        {
          "output_type": "stream",
          "name": "stdout",
          "text": [
            "Point(1, 2)\n",
            "Point(3, 4)\n",
            "Point(4, 6)\n"
          ]
        }
      ]
    },
    {
      "cell_type": "markdown",
      "source": [
        "#### ***Q.12  Create a decorator that measures and prints the execution time of a function.***\n",
        "\n",
        "**Ans :-** A decorator in Python is a function that wraps another function to extend its behavior without modifying it directly. Below is an example of a decorator called `measure_execution_time` that measures and prints the execution time of any function it decorates."
      ],
      "metadata": {
        "id": "T6xlzqhGzp0v"
      }
    },
    {
      "cell_type": "code",
      "source": [
        "import time\n",
        "from functools import wraps\n",
        "\n",
        "def measure_execution_time(func):\n",
        "    @wraps(func)  # Preserve the original function's metadata\n",
        "    def wrapper(*args, **kwargs):\n",
        "        start_time = time.time()  # Record the start time\n",
        "        result = func(*args, **kwargs)  # Call the original function\n",
        "        end_time = time.time()  # Record the end time\n",
        "        execution_time = end_time - start_time  # Calculate the execution time\n",
        "        print(f\"Execution time for {func.__name__}: {execution_time:.4f} seconds\")\n",
        "        return result  # Return the result of the original function\n",
        "    return wrapper\n",
        "\n",
        "# Example usage\n",
        "@measure_execution_time\n",
        "def example_function(n):\n",
        "    \"\"\"A simple function that simulates a time-consuming operation.\"\"\"\n",
        "    total = 0\n",
        "    for i in range(n):\n",
        "        total += i\n",
        "    return total\n",
        "\n",
        "if __name__ == \"__main__\":\n",
        "    result = example_function(1000000)  # Call the decorated function\n",
        "    print(f\"Result: {result}\")  # Output the result\n"
      ],
      "metadata": {
        "colab": {
          "base_uri": "https://localhost:8080/"
        },
        "id": "Fw2pA5ooFTwa",
        "outputId": "63cdde42-05e3-45fb-fea0-ddb34c801d69"
      },
      "execution_count": 29,
      "outputs": [
        {
          "output_type": "stream",
          "name": "stdout",
          "text": [
            "Execution time for example_function: 0.0742 seconds\n",
            "Result: 499999500000\n"
          ]
        }
      ]
    },
    {
      "cell_type": "markdown",
      "source": [
        "#### ***Q.13  Explain the concept of the Diamond Problem in multiple inheritance. How does Python resolve it?***\n",
        "\n",
        "**Ans :-** The Diamond Problem is a common issue that arises in multiple inheritance scenarios, where a class inherits from two or more classes that have a common ancestor. This can lead to ambiguity regarding which path should be followed to access a method or attribute from the ancestor class.\n",
        "Visualization of the Diamond Problem\n",
        "\n",
        "**Here's a simple representation of the Diamond Problem:**\n",
        "```\n",
        "       A\n",
        "      / \\\n",
        "     B   C\n",
        "      \\ /\n",
        "       D\n",
        "```\n",
        "In this diagram:\n",
        "  * A is the common ancestor (base class).\n",
        "  * B and C are derived classes that both inherit from A.\n",
        "  * D is a class that inherits from both B and C.\n",
        "\n",
        "  When an instance of D tries to access a method or attribute defined in A, it’s unclear whether the method should be accessed through B or C, leading to potential ambiguity.\n",
        "\n",
        "**How Python Resolves the Diamond Problem ??**\n",
        "\n",
        "Python uses the C3 Linearization (also known as C3 superclass linearization) algorithm to resolve the Diamond Problem. This algorithm establishes a method resolution order (MRO) that dictates the order in which classes are searched when calling methods or accessing attributes.\n",
        "\n",
        "**MRO in Python :-**  The MRO is computed in a way that ensures:\n",
        "  * A class appears before its bases in the MRO.\n",
        "  * The order in which classes are listed in the inheritance hierarchy is preserved.\n",
        "  * It avoids the ambiguity of multiple inheritance by enforcing a strict linear order."
      ],
      "metadata": {
        "id": "DlaUUfJhzp9E"
      }
    },
    {
      "cell_type": "code",
      "source": [
        "#Example\n",
        "\n",
        "class A:\n",
        "    def greet(self):\n",
        "        return \"Hello from A\"\n",
        "\n",
        "class B(A):\n",
        "    def greet(self):\n",
        "        return \"Hello from B\"\n",
        "\n",
        "class C(A):\n",
        "    def greet(self):\n",
        "        return \"Hello from C\"\n",
        "\n",
        "class D(B, C):\n",
        "    pass\n",
        "\n",
        "# Create an instance of D\n",
        "d = D()\n",
        "\n",
        "# Call the greet method\n",
        "print(d.greet())  # Output will depend on MRO\n",
        "print(D.mro())    # Displays the method resolution order\n"
      ],
      "metadata": {
        "colab": {
          "base_uri": "https://localhost:8080/"
        },
        "id": "67K6JmwdGXBv",
        "outputId": "3b53403e-5c41-4c3e-b130-40ece3ef19a8"
      },
      "execution_count": 30,
      "outputs": [
        {
          "output_type": "stream",
          "name": "stdout",
          "text": [
            "Hello from B\n",
            "[<class '__main__.D'>, <class '__main__.B'>, <class '__main__.C'>, <class '__main__.A'>, <class 'object'>]\n"
          ]
        }
      ]
    },
    {
      "cell_type": "markdown",
      "source": [
        "#### ***Q.14  Write a class method that keeps track of the number of instances created from a class.***\n",
        "\n",
        "**Ans :-** To keep track of the number of instances created from a class in Python, you can use a class variable. A class method can be defined to access and update this variable whenever a new instance of the class is created. Below is an example of a class called `InstanceCounter` that demonstrates this concept."
      ],
      "metadata": {
        "id": "RxZqWrMBzqfG"
      }
    },
    {
      "cell_type": "code",
      "source": [
        "class InstanceCounter:\n",
        "    # Class variable to keep track of the number of instances\n",
        "    instance_count = 0\n",
        "\n",
        "    def __init__(self):\n",
        "        # Increment the instance count each time an instance is created\n",
        "        InstanceCounter.instance_count += 1\n",
        "\n",
        "    @classmethod\n",
        "    def get_instance_count(cls):\n",
        "        \"\"\"Class method to return the current instance count.\"\"\"\n",
        "        return cls.instance_count\n",
        "\n",
        "# Example usage\n",
        "if __name__ == \"__main__\":\n",
        "    obj1 = InstanceCounter()  # Create first instance\n",
        "    obj2 = InstanceCounter()  # Create second instance\n",
        "    obj3 = InstanceCounter()  # Create third instance\n",
        "\n",
        "    print(f\"Number of instances created: {InstanceCounter.get_instance_count()}\")  # Output: 3\n"
      ],
      "metadata": {
        "colab": {
          "base_uri": "https://localhost:8080/"
        },
        "id": "ozxOExAtGugC",
        "outputId": "0be6476a-1cf6-476c-ab72-7d21adac7eb2"
      },
      "execution_count": 31,
      "outputs": [
        {
          "output_type": "stream",
          "name": "stdout",
          "text": [
            "Number of instances created: 3\n"
          ]
        }
      ]
    },
    {
      "cell_type": "markdown",
      "source": [
        "#### ***Q.15  Implement a static method in a class that checks if a given year is a leap year.***\n",
        "\n",
        "**Ans :-** To implement a static method in a class that checks if a given year is a leap year, you can use the `@staticmethod` decorator. A leap year is defined by the following rules:\n",
        "  * A year is a leap year if it is divisible by 4.\n",
        "  * However, if the year is divisible by 100, it is not a leap year, unless:\n",
        "  * The year is also divisible by 400, in which case it is a leap year.\n",
        "\n",
        "Below is an example of a class called `YearUtils` that includes a static method to check for leap years."
      ],
      "metadata": {
        "id": "8g99hEsrzqk7"
      }
    },
    {
      "cell_type": "code",
      "source": [
        "class YearUtils:\n",
        "    @staticmethod\n",
        "    def is_leap_year(year):\n",
        "        \"\"\"Check if a given year is a leap year.\"\"\"\n",
        "        if (year % 4 == 0 and year % 100 != 0) or (year % 400 == 0):\n",
        "            return True\n",
        "        return False\n",
        "\n",
        "# Example usage\n",
        "if __name__ == \"__main__\":\n",
        "    test_years = [1900, 2000, 2020, 2023, 2100]\n",
        "\n",
        "    for year in test_years:\n",
        "        if YearUtils.is_leap_year(year):\n",
        "            print(f\"{year} is a leap year.\")\n",
        "        else:\n",
        "            print(f\"{year} is not a leap year.\")\n"
      ],
      "metadata": {
        "colab": {
          "base_uri": "https://localhost:8080/"
        },
        "id": "JrpMtXqYHINr",
        "outputId": "f688b061-832d-42c0-d2fd-aae5600f2016"
      },
      "execution_count": 32,
      "outputs": [
        {
          "output_type": "stream",
          "name": "stdout",
          "text": [
            "1900 is not a leap year.\n",
            "2000 is a leap year.\n",
            "2020 is a leap year.\n",
            "2023 is not a leap year.\n",
            "2100 is not a leap year.\n"
          ]
        }
      ]
    },
    {
      "cell_type": "code",
      "source": [],
      "metadata": {
        "id": "jz05RN6iHIm9"
      },
      "execution_count": null,
      "outputs": []
    }
  ]
}